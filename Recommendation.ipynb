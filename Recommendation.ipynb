{
 "cells": [
  {
   "cell_type": "markdown",
   "metadata": {},
   "source": [
    "## Feature Description"
   ]
  },
  {
   "cell_type": "markdown",
   "metadata": {},
   "source": [
    "**Anime.csv** <br>\n",
    "\n",
    "* anime_id - unique id identifying an anime.<br>\n",
    "* name - full name of anime.<br>\n",
    "* genre - comma separated list of genres for this anime.<br>\n",
    "* type - movie, TV, OVA, etc.<br>\n",
    "* episodes - how many episodes in this show. (1 if movie).<br>\n",
    "* rating - average rating out of 10 for this anime.<br>\n",
    "* members - number of community members that are in this anime's\n",
    "\"group\".<br>\n",
    "\n",
    "**Rating.csv**<br>\n",
    "\n",
    "* user_id - non identifiable randomly generated user id.<br>\n",
    "* anime_id - the anime that this user has rated.<br>\n",
    "* rating - rating out of 10 this user has assigned (-1 if the user watched it but didn't assign a rating).<br>"
   ]
  },
  {
   "cell_type": "markdown",
   "metadata": {},
   "source": [
    "## Import Libraries"
   ]
  },
  {
   "cell_type": "code",
   "execution_count": 1,
   "metadata": {
    "_cell_guid": "79c7e3d0-c299-4dcb-8224-4455121ee9b0",
    "_uuid": "d629ff2d2480ee46fbb7e2d37f6b5fab8052498a",
    "colab": {
     "base_uri": "https://localhost:8080/",
     "height": 17
    },
    "execution": {
     "iopub.execute_input": "2020-11-17T06:33:27.846761Z",
     "iopub.status.busy": "2020-11-17T06:33:27.845686Z",
     "iopub.status.idle": "2020-11-17T06:33:27.848124Z",
     "shell.execute_reply": "2020-11-17T06:33:27.848845Z"
    },
    "executionInfo": {
     "elapsed": 2761,
     "status": "ok",
     "timestamp": 1619162467096,
     "user": {
      "displayName": "Kishore Shankar",
      "photoUrl": "",
      "userId": "11808713096947279794"
     },
     "user_tz": -330
    },
    "id": "YFOoyYgMsXu8",
    "outputId": "8c240df7-38ec-479d-b9ef-a52b0e953432",
    "papermill": {
     "duration": 0.037253,
     "end_time": "2020-11-17T06:33:27.849005",
     "exception": false,
     "start_time": "2020-11-17T06:33:27.811752",
     "status": "completed"
    },
    "tags": []
   },
   "outputs": [
    {
     "data": {
      "text/html": [
       "        <script type=\"text/javascript\">\n",
       "        window.PlotlyConfig = {MathJaxConfig: 'local'};\n",
       "        if (window.MathJax) {MathJax.Hub.Config({SVG: {font: \"STIX-Web\"}});}\n",
       "        if (typeof require !== 'undefined') {\n",
       "        require.undef(\"plotly\");\n",
       "        requirejs.config({\n",
       "            paths: {\n",
       "                'plotly': ['https://cdn.plot.ly/plotly-latest.min']\n",
       "            }\n",
       "        });\n",
       "        require(['plotly'], function(Plotly) {\n",
       "            window._Plotly = Plotly;\n",
       "        });\n",
       "        }\n",
       "        </script>\n",
       "        "
      ]
     },
     "metadata": {},
     "output_type": "display_data"
    }
   ],
   "source": [
    "import numpy as np\n",
    "import pandas as pd\n",
    "import matplotlib.pyplot as plt\n",
    "import seaborn as sns\n",
    "import plotly.graph_objs as go\n",
    "import plotly.express as px\n",
    "import plotly\n",
    "\n",
    "plotly.offline.init_notebook_mode(connected=True)\n",
    "pd.options.display.float_format = '{:.6f}'.format\n",
    "\n",
    "from sklearn.metrics import silhouette_score, silhouette_samples\n",
    "from sklearn.cluster import KMeans\n",
    "from sklearn.preprocessing import MinMaxScaler\n",
    "from sklearn.cluster import DBSCAN\n",
    "from sklearn.decomposition import PCA\n",
    "\n",
    "from wordcloud import WordCloud\n",
    "\n",
    "%matplotlib inline\n",
    "import warnings\n",
    "warnings.filterwarnings('ignore')\n",
    "plt.rcParams['figure.figsize'] = [10,8]\n",
    "plt.style.use('ggplot')"
   ]
  },
  {
   "cell_type": "markdown",
   "metadata": {},
   "source": [
    "## Loading of anime and rating data"
   ]
  },
  {
   "cell_type": "code",
   "execution_count": 2,
   "metadata": {
    "colab": {
     "base_uri": "https://localhost:8080/",
     "height": 254
    },
    "execution": {
     "iopub.execute_input": "2020-11-17T06:33:28.130760Z",
     "iopub.status.busy": "2020-11-17T06:33:28.129758Z",
     "iopub.status.idle": "2020-11-17T06:33:31.189133Z",
     "shell.execute_reply": "2020-11-17T06:33:31.189705Z"
    },
    "executionInfo": {
     "elapsed": 6149,
     "status": "ok",
     "timestamp": 1619162470523,
     "user": {
      "displayName": "Kishore Shankar",
      "photoUrl": "",
      "userId": "11808713096947279794"
     },
     "user_tz": -330
    },
    "id": "2i7UFGEgsXvF",
    "outputId": "93711e48-5e60-42f3-c829-365de3a2aec4",
    "papermill": {
     "duration": 3.095707,
     "end_time": "2020-11-17T06:33:31.189886",
     "exception": false,
     "start_time": "2020-11-17T06:33:28.094179",
     "status": "completed"
    },
    "tags": []
   },
   "outputs": [
    {
     "data": {
      "text/html": [
       "<div>\n",
       "<style scoped>\n",
       "    .dataframe tbody tr th:only-of-type {\n",
       "        vertical-align: middle;\n",
       "    }\n",
       "\n",
       "    .dataframe tbody tr th {\n",
       "        vertical-align: top;\n",
       "    }\n",
       "\n",
       "    .dataframe thead th {\n",
       "        text-align: right;\n",
       "    }\n",
       "</style>\n",
       "<table border=\"1\" class=\"dataframe\">\n",
       "  <thead>\n",
       "    <tr style=\"text-align: right;\">\n",
       "      <th></th>\n",
       "      <th>anime_id</th>\n",
       "      <th>name</th>\n",
       "      <th>genre</th>\n",
       "      <th>type</th>\n",
       "      <th>episodes</th>\n",
       "      <th>rating</th>\n",
       "      <th>members</th>\n",
       "    </tr>\n",
       "  </thead>\n",
       "  <tbody>\n",
       "    <tr>\n",
       "      <th>0</th>\n",
       "      <td>32281</td>\n",
       "      <td>Kimi no Na wa.</td>\n",
       "      <td>Drama, Romance, School, Supernatural</td>\n",
       "      <td>Movie</td>\n",
       "      <td>1</td>\n",
       "      <td>9.370000</td>\n",
       "      <td>200630</td>\n",
       "    </tr>\n",
       "    <tr>\n",
       "      <th>1</th>\n",
       "      <td>5114</td>\n",
       "      <td>Fullmetal Alchemist: Brotherhood</td>\n",
       "      <td>Action, Adventure, Drama, Fantasy, Magic, Mili...</td>\n",
       "      <td>TV</td>\n",
       "      <td>64</td>\n",
       "      <td>9.260000</td>\n",
       "      <td>793665</td>\n",
       "    </tr>\n",
       "    <tr>\n",
       "      <th>2</th>\n",
       "      <td>28977</td>\n",
       "      <td>Gintama°</td>\n",
       "      <td>Action, Comedy, Historical, Parody, Samurai, S...</td>\n",
       "      <td>TV</td>\n",
       "      <td>51</td>\n",
       "      <td>9.250000</td>\n",
       "      <td>114262</td>\n",
       "    </tr>\n",
       "    <tr>\n",
       "      <th>3</th>\n",
       "      <td>9253</td>\n",
       "      <td>Steins;Gate</td>\n",
       "      <td>Sci-Fi, Thriller</td>\n",
       "      <td>TV</td>\n",
       "      <td>24</td>\n",
       "      <td>9.170000</td>\n",
       "      <td>673572</td>\n",
       "    </tr>\n",
       "    <tr>\n",
       "      <th>4</th>\n",
       "      <td>9969</td>\n",
       "      <td>Gintama&amp;#039;</td>\n",
       "      <td>Action, Comedy, Historical, Parody, Samurai, S...</td>\n",
       "      <td>TV</td>\n",
       "      <td>51</td>\n",
       "      <td>9.160000</td>\n",
       "      <td>151266</td>\n",
       "    </tr>\n",
       "  </tbody>\n",
       "</table>\n",
       "</div>"
      ],
      "text/plain": [
       "   anime_id                              name  \\\n",
       "0     32281                    Kimi no Na wa.   \n",
       "1      5114  Fullmetal Alchemist: Brotherhood   \n",
       "2     28977                          Gintama°   \n",
       "3      9253                       Steins;Gate   \n",
       "4      9969                     Gintama&#039;   \n",
       "\n",
       "                                               genre   type episodes   rating  \\\n",
       "0               Drama, Romance, School, Supernatural  Movie        1 9.370000   \n",
       "1  Action, Adventure, Drama, Fantasy, Magic, Mili...     TV       64 9.260000   \n",
       "2  Action, Comedy, Historical, Parody, Samurai, S...     TV       51 9.250000   \n",
       "3                                   Sci-Fi, Thriller     TV       24 9.170000   \n",
       "4  Action, Comedy, Historical, Parody, Samurai, S...     TV       51 9.160000   \n",
       "\n",
       "   members  \n",
       "0   200630  \n",
       "1   793665  \n",
       "2   114262  \n",
       "3   673572  \n",
       "4   151266  "
      ]
     },
     "execution_count": 2,
     "metadata": {},
     "output_type": "execute_result"
    }
   ],
   "source": [
    "anime=pd.read_csv(\"anime.csv\")\n",
    "rating=pd.read_csv(\"rating.csv\")\n",
    "anime.head()"
   ]
  },
  {
   "cell_type": "code",
   "execution_count": 3,
   "metadata": {
    "colab": {
     "base_uri": "https://localhost:8080/"
    },
    "execution": {
     "iopub.execute_input": "2020-11-17T06:33:31.262861Z",
     "iopub.status.busy": "2020-11-17T06:33:31.261699Z",
     "iopub.status.idle": "2020-11-17T06:33:31.277416Z",
     "shell.execute_reply": "2020-11-17T06:33:31.278076Z"
    },
    "executionInfo": {
     "elapsed": 6136,
     "status": "ok",
     "timestamp": 1619162470527,
     "user": {
      "displayName": "Kishore Shankar",
      "photoUrl": "",
      "userId": "11808713096947279794"
     },
     "user_tz": -330
    },
    "id": "lJkGcT8csXvI",
    "outputId": "fa2bf764-0cc0-4349-c7fa-54f128c119db",
    "papermill": {
     "duration": 0.057793,
     "end_time": "2020-11-17T06:33:31.278242",
     "exception": false,
     "start_time": "2020-11-17T06:33:31.220449",
     "status": "completed"
    },
    "tags": []
   },
   "outputs": [
    {
     "name": "stdout",
     "output_type": "stream",
     "text": [
      "<class 'pandas.core.frame.DataFrame'>\n",
      "RangeIndex: 12294 entries, 0 to 12293\n",
      "Data columns (total 7 columns):\n",
      " #   Column    Non-Null Count  Dtype  \n",
      "---  ------    --------------  -----  \n",
      " 0   anime_id  12294 non-null  int64  \n",
      " 1   name      12294 non-null  object \n",
      " 2   genre     12232 non-null  object \n",
      " 3   type      12269 non-null  object \n",
      " 4   episodes  12294 non-null  object \n",
      " 5   rating    12064 non-null  float64\n",
      " 6   members   12294 non-null  int64  \n",
      "dtypes: float64(1), int64(2), object(4)\n",
      "memory usage: 672.5+ KB\n"
     ]
    }
   ],
   "source": [
    "anime.info()"
   ]
  },
  {
   "cell_type": "code",
   "execution_count": 4,
   "metadata": {
    "colab": {
     "base_uri": "https://localhost:8080/"
    },
    "execution": {
     "iopub.execute_input": "2020-11-17T06:33:31.666539Z",
     "iopub.status.busy": "2020-11-17T06:33:31.665332Z",
     "iopub.status.idle": "2020-11-17T06:33:31.676045Z",
     "shell.execute_reply": "2020-11-17T06:33:31.676597Z"
    },
    "executionInfo": {
     "elapsed": 6127,
     "status": "ok",
     "timestamp": 1619162470532,
     "user": {
      "displayName": "Kishore Shankar",
      "photoUrl": "",
      "userId": "11808713096947279794"
     },
     "user_tz": -330
    },
    "id": "RmI6_18isXvO",
    "outputId": "8c5d705c-ecd1-4ecf-dcc0-d59fd538ea1d",
    "papermill": {
     "duration": 0.052746,
     "end_time": "2020-11-17T06:33:31.676781",
     "exception": false,
     "start_time": "2020-11-17T06:33:31.624035",
     "status": "completed"
    },
    "tags": []
   },
   "outputs": [
    {
     "data": {
      "text/plain": [
       "dtype('int32')"
      ]
     },
     "execution_count": 4,
     "metadata": {},
     "output_type": "execute_result"
    }
   ],
   "source": [
    "anime=anime[anime['episodes']!='Unknown']\n",
    "anime['episodes']=anime['episodes'].astype('int')\n",
    "anime['episodes'].dtype"
   ]
  },
  {
   "cell_type": "code",
   "execution_count": 5,
   "metadata": {
    "colab": {
     "base_uri": "https://localhost:8080/",
     "height": 289
    },
    "executionInfo": {
     "elapsed": 7700,
     "status": "ok",
     "timestamp": 1619162472110,
     "user": {
      "displayName": "Kishore Shankar",
      "photoUrl": "",
      "userId": "11808713096947279794"
     },
     "user_tz": -330
    },
    "id": "PZsd8MDzsXvQ",
    "outputId": "7d901ea7-eba5-4fe3-c1ec-58ce773afe5b"
   },
   "outputs": [
    {
     "data": {
      "text/html": [
       "<div>\n",
       "<style scoped>\n",
       "    .dataframe tbody tr th:only-of-type {\n",
       "        vertical-align: middle;\n",
       "    }\n",
       "\n",
       "    .dataframe tbody tr th {\n",
       "        vertical-align: top;\n",
       "    }\n",
       "\n",
       "    .dataframe thead th {\n",
       "        text-align: right;\n",
       "    }\n",
       "</style>\n",
       "<table border=\"1\" class=\"dataframe\">\n",
       "  <thead>\n",
       "    <tr style=\"text-align: right;\">\n",
       "      <th></th>\n",
       "      <th>anime_id</th>\n",
       "      <th>anime_title</th>\n",
       "      <th>genre</th>\n",
       "      <th>type</th>\n",
       "      <th>episodes</th>\n",
       "      <th>rating</th>\n",
       "      <th>members</th>\n",
       "      <th>user_id</th>\n",
       "      <th>user_rating</th>\n",
       "    </tr>\n",
       "  </thead>\n",
       "  <tbody>\n",
       "    <tr>\n",
       "      <th>0</th>\n",
       "      <td>32281</td>\n",
       "      <td>Kimi no Na wa.</td>\n",
       "      <td>Drama, Romance, School, Supernatural</td>\n",
       "      <td>Movie</td>\n",
       "      <td>1</td>\n",
       "      <td>9.370000</td>\n",
       "      <td>200630</td>\n",
       "      <td>99</td>\n",
       "      <td>5</td>\n",
       "    </tr>\n",
       "    <tr>\n",
       "      <th>1</th>\n",
       "      <td>32281</td>\n",
       "      <td>Kimi no Na wa.</td>\n",
       "      <td>Drama, Romance, School, Supernatural</td>\n",
       "      <td>Movie</td>\n",
       "      <td>1</td>\n",
       "      <td>9.370000</td>\n",
       "      <td>200630</td>\n",
       "      <td>152</td>\n",
       "      <td>10</td>\n",
       "    </tr>\n",
       "    <tr>\n",
       "      <th>2</th>\n",
       "      <td>32281</td>\n",
       "      <td>Kimi no Na wa.</td>\n",
       "      <td>Drama, Romance, School, Supernatural</td>\n",
       "      <td>Movie</td>\n",
       "      <td>1</td>\n",
       "      <td>9.370000</td>\n",
       "      <td>200630</td>\n",
       "      <td>244</td>\n",
       "      <td>10</td>\n",
       "    </tr>\n",
       "    <tr>\n",
       "      <th>3</th>\n",
       "      <td>32281</td>\n",
       "      <td>Kimi no Na wa.</td>\n",
       "      <td>Drama, Romance, School, Supernatural</td>\n",
       "      <td>Movie</td>\n",
       "      <td>1</td>\n",
       "      <td>9.370000</td>\n",
       "      <td>200630</td>\n",
       "      <td>271</td>\n",
       "      <td>10</td>\n",
       "    </tr>\n",
       "    <tr>\n",
       "      <th>4</th>\n",
       "      <td>32281</td>\n",
       "      <td>Kimi no Na wa.</td>\n",
       "      <td>Drama, Romance, School, Supernatural</td>\n",
       "      <td>Movie</td>\n",
       "      <td>1</td>\n",
       "      <td>9.370000</td>\n",
       "      <td>200630</td>\n",
       "      <td>278</td>\n",
       "      <td>-1</td>\n",
       "    </tr>\n",
       "  </tbody>\n",
       "</table>\n",
       "</div>"
      ],
      "text/plain": [
       "   anime_id     anime_title                                 genre   type  \\\n",
       "0     32281  Kimi no Na wa.  Drama, Romance, School, Supernatural  Movie   \n",
       "1     32281  Kimi no Na wa.  Drama, Romance, School, Supernatural  Movie   \n",
       "2     32281  Kimi no Na wa.  Drama, Romance, School, Supernatural  Movie   \n",
       "3     32281  Kimi no Na wa.  Drama, Romance, School, Supernatural  Movie   \n",
       "4     32281  Kimi no Na wa.  Drama, Romance, School, Supernatural  Movie   \n",
       "\n",
       "   episodes   rating  members  user_id  user_rating  \n",
       "0         1 9.370000   200630       99            5  \n",
       "1         1 9.370000   200630      152           10  \n",
       "2         1 9.370000   200630      244           10  \n",
       "3         1 9.370000   200630      271           10  \n",
       "4         1 9.370000   200630      278           -1  "
      ]
     },
     "execution_count": 5,
     "metadata": {},
     "output_type": "execute_result"
    }
   ],
   "source": [
    "anime_fulldata=pd.merge(anime,rating,on='anime_id',suffixes= ['', '_user'])\n",
    "anime_fulldata = anime_fulldata.rename(columns={'name': 'anime_title', 'rating_user': 'user_rating'})\n",
    "anime_fulldata.head()"
   ]
  },
  {
   "cell_type": "markdown",
   "metadata": {},
   "source": [
    "## Check for missing values"
   ]
  },
  {
   "cell_type": "code",
   "execution_count": 7,
   "metadata": {},
   "outputs": [
    {
     "data": {
      "text/plain": [
       "anime_id         0\n",
       "anime_title      0\n",
       "genre          110\n",
       "type             0\n",
       "episodes         0\n",
       "rating           2\n",
       "members          0\n",
       "user_id          0\n",
       "user_rating      0\n",
       "dtype: int64"
      ]
     },
     "execution_count": 7,
     "metadata": {},
     "output_type": "execute_result"
    }
   ],
   "source": [
    "anime_fulldata.isna().sum()"
   ]
  },
  {
   "cell_type": "markdown",
   "metadata": {},
   "source": [
    "## Dropping of missing values"
   ]
  },
  {
   "cell_type": "code",
   "execution_count": 8,
   "metadata": {},
   "outputs": [],
   "source": [
    "anime_fulldata.dropna(inplace=True)"
   ]
  },
  {
   "cell_type": "code",
   "execution_count": 9,
   "metadata": {},
   "outputs": [],
   "source": [
    "anime_fulldata['genre'] = anime_fulldata['genre'].apply(lambda x:x.split(',')[0])"
   ]
  },
  {
   "cell_type": "code",
   "execution_count": 10,
   "metadata": {},
   "outputs": [
    {
     "data": {
      "text/html": [
       "<div>\n",
       "<style scoped>\n",
       "    .dataframe tbody tr th:only-of-type {\n",
       "        vertical-align: middle;\n",
       "    }\n",
       "\n",
       "    .dataframe tbody tr th {\n",
       "        vertical-align: top;\n",
       "    }\n",
       "\n",
       "    .dataframe thead th {\n",
       "        text-align: right;\n",
       "    }\n",
       "</style>\n",
       "<table border=\"1\" class=\"dataframe\">\n",
       "  <thead>\n",
       "    <tr style=\"text-align: right;\">\n",
       "      <th></th>\n",
       "      <th>anime_id</th>\n",
       "      <th>anime_title</th>\n",
       "      <th>genre</th>\n",
       "      <th>type</th>\n",
       "      <th>episodes</th>\n",
       "      <th>rating</th>\n",
       "      <th>members</th>\n",
       "      <th>user_id</th>\n",
       "      <th>user_rating</th>\n",
       "    </tr>\n",
       "  </thead>\n",
       "  <tbody>\n",
       "    <tr>\n",
       "      <th>0</th>\n",
       "      <td>32281</td>\n",
       "      <td>Kimi no Na wa.</td>\n",
       "      <td>Drama</td>\n",
       "      <td>Movie</td>\n",
       "      <td>1</td>\n",
       "      <td>9.370000</td>\n",
       "      <td>200630</td>\n",
       "      <td>99</td>\n",
       "      <td>5</td>\n",
       "    </tr>\n",
       "    <tr>\n",
       "      <th>1</th>\n",
       "      <td>32281</td>\n",
       "      <td>Kimi no Na wa.</td>\n",
       "      <td>Drama</td>\n",
       "      <td>Movie</td>\n",
       "      <td>1</td>\n",
       "      <td>9.370000</td>\n",
       "      <td>200630</td>\n",
       "      <td>152</td>\n",
       "      <td>10</td>\n",
       "    </tr>\n",
       "    <tr>\n",
       "      <th>2</th>\n",
       "      <td>32281</td>\n",
       "      <td>Kimi no Na wa.</td>\n",
       "      <td>Drama</td>\n",
       "      <td>Movie</td>\n",
       "      <td>1</td>\n",
       "      <td>9.370000</td>\n",
       "      <td>200630</td>\n",
       "      <td>244</td>\n",
       "      <td>10</td>\n",
       "    </tr>\n",
       "    <tr>\n",
       "      <th>3</th>\n",
       "      <td>32281</td>\n",
       "      <td>Kimi no Na wa.</td>\n",
       "      <td>Drama</td>\n",
       "      <td>Movie</td>\n",
       "      <td>1</td>\n",
       "      <td>9.370000</td>\n",
       "      <td>200630</td>\n",
       "      <td>271</td>\n",
       "      <td>10</td>\n",
       "    </tr>\n",
       "    <tr>\n",
       "      <th>4</th>\n",
       "      <td>32281</td>\n",
       "      <td>Kimi no Na wa.</td>\n",
       "      <td>Drama</td>\n",
       "      <td>Movie</td>\n",
       "      <td>1</td>\n",
       "      <td>9.370000</td>\n",
       "      <td>200630</td>\n",
       "      <td>278</td>\n",
       "      <td>-1</td>\n",
       "    </tr>\n",
       "  </tbody>\n",
       "</table>\n",
       "</div>"
      ],
      "text/plain": [
       "   anime_id     anime_title  genre   type  episodes   rating  members  \\\n",
       "0     32281  Kimi no Na wa.  Drama  Movie         1 9.370000   200630   \n",
       "1     32281  Kimi no Na wa.  Drama  Movie         1 9.370000   200630   \n",
       "2     32281  Kimi no Na wa.  Drama  Movie         1 9.370000   200630   \n",
       "3     32281  Kimi no Na wa.  Drama  Movie         1 9.370000   200630   \n",
       "4     32281  Kimi no Na wa.  Drama  Movie         1 9.370000   200630   \n",
       "\n",
       "   user_id  user_rating  \n",
       "0       99            5  \n",
       "1      152           10  \n",
       "2      244           10  \n",
       "3      271           10  \n",
       "4      278           -1  "
      ]
     },
     "execution_count": 10,
     "metadata": {},
     "output_type": "execute_result"
    }
   ],
   "source": [
    "anime_fulldata.head()"
   ]
  },
  {
   "cell_type": "markdown",
   "metadata": {
    "id": "dalLFchnsXvR",
    "papermill": {
     "duration": 0.032981,
     "end_time": "2020-11-17T06:33:31.742830",
     "exception": false,
     "start_time": "2020-11-17T06:33:31.709849",
     "status": "completed"
    },
    "tags": []
   },
   "source": [
    "# Descriptive analysis"
   ]
  },
  {
   "cell_type": "code",
   "execution_count": 11,
   "metadata": {
    "colab": {
     "base_uri": "https://localhost:8080/",
     "height": 294
    },
    "execution": {
     "iopub.execute_input": "2020-11-17T06:33:31.817295Z",
     "iopub.status.busy": "2020-11-17T06:33:31.816458Z",
     "iopub.status.idle": "2020-11-17T06:33:31.840127Z",
     "shell.execute_reply": "2020-11-17T06:33:31.839331Z"
    },
    "executionInfo": {
     "elapsed": 7692,
     "status": "ok",
     "timestamp": 1619162472112,
     "user": {
      "displayName": "Kishore Shankar",
      "photoUrl": "",
      "userId": "11808713096947279794"
     },
     "user_tz": -330
    },
    "id": "S8P7zX1TsXvW",
    "outputId": "8ef0ec63-f405-4319-c4a6-40fb093799ea",
    "papermill": {
     "duration": 0.063471,
     "end_time": "2020-11-17T06:33:31.840252",
     "exception": false,
     "start_time": "2020-11-17T06:33:31.776781",
     "status": "completed"
    },
    "tags": []
   },
   "outputs": [
    {
     "data": {
      "text/html": [
       "<div>\n",
       "<style scoped>\n",
       "    .dataframe tbody tr th:only-of-type {\n",
       "        vertical-align: middle;\n",
       "    }\n",
       "\n",
       "    .dataframe tbody tr th {\n",
       "        vertical-align: top;\n",
       "    }\n",
       "\n",
       "    .dataframe thead th {\n",
       "        text-align: right;\n",
       "    }\n",
       "</style>\n",
       "<table border=\"1\" class=\"dataframe\">\n",
       "  <thead>\n",
       "    <tr style=\"text-align: right;\">\n",
       "      <th></th>\n",
       "      <th>anime_id</th>\n",
       "      <th>episodes</th>\n",
       "      <th>rating</th>\n",
       "      <th>members</th>\n",
       "    </tr>\n",
       "  </thead>\n",
       "  <tbody>\n",
       "    <tr>\n",
       "      <th>count</th>\n",
       "      <td>11954.000000</td>\n",
       "      <td>11954.000000</td>\n",
       "      <td>11876.000000</td>\n",
       "      <td>11954.000000</td>\n",
       "    </tr>\n",
       "    <tr>\n",
       "      <th>mean</th>\n",
       "      <td>13589.705120</td>\n",
       "      <td>12.382550</td>\n",
       "      <td>6.480333</td>\n",
       "      <td>18368.561402</td>\n",
       "    </tr>\n",
       "    <tr>\n",
       "      <th>std</th>\n",
       "      <td>11209.052798</td>\n",
       "      <td>46.865352</td>\n",
       "      <td>1.021995</td>\n",
       "      <td>55110.775838</td>\n",
       "    </tr>\n",
       "    <tr>\n",
       "      <th>min</th>\n",
       "      <td>1.000000</td>\n",
       "      <td>1.000000</td>\n",
       "      <td>1.670000</td>\n",
       "      <td>5.000000</td>\n",
       "    </tr>\n",
       "    <tr>\n",
       "      <th>25%</th>\n",
       "      <td>3380.250000</td>\n",
       "      <td>1.000000</td>\n",
       "      <td>5.890000</td>\n",
       "      <td>229.000000</td>\n",
       "    </tr>\n",
       "    <tr>\n",
       "      <th>50%</th>\n",
       "      <td>9934.500000</td>\n",
       "      <td>2.000000</td>\n",
       "      <td>6.570000</td>\n",
       "      <td>1579.500000</td>\n",
       "    </tr>\n",
       "    <tr>\n",
       "      <th>75%</th>\n",
       "      <td>23644.500000</td>\n",
       "      <td>12.000000</td>\n",
       "      <td>7.182500</td>\n",
       "      <td>9755.500000</td>\n",
       "    </tr>\n",
       "    <tr>\n",
       "      <th>max</th>\n",
       "      <td>34527.000000</td>\n",
       "      <td>1818.000000</td>\n",
       "      <td>10.000000</td>\n",
       "      <td>1013917.000000</td>\n",
       "    </tr>\n",
       "  </tbody>\n",
       "</table>\n",
       "</div>"
      ],
      "text/plain": [
       "          anime_id     episodes       rating        members\n",
       "count 11954.000000 11954.000000 11876.000000   11954.000000\n",
       "mean  13589.705120    12.382550     6.480333   18368.561402\n",
       "std   11209.052798    46.865352     1.021995   55110.775838\n",
       "min       1.000000     1.000000     1.670000       5.000000\n",
       "25%    3380.250000     1.000000     5.890000     229.000000\n",
       "50%    9934.500000     2.000000     6.570000    1579.500000\n",
       "75%   23644.500000    12.000000     7.182500    9755.500000\n",
       "max   34527.000000  1818.000000    10.000000 1013917.000000"
      ]
     },
     "execution_count": 11,
     "metadata": {},
     "output_type": "execute_result"
    }
   ],
   "source": [
    "anime.describe()"
   ]
  },
  {
   "cell_type": "markdown",
   "metadata": {
    "id": "hrr-OxXQsXvW"
   },
   "source": [
    "### Do people rate consistently?"
   ]
  },
  {
   "cell_type": "code",
   "execution_count": 12,
   "metadata": {
    "colab": {
     "base_uri": "https://localhost:8080/",
     "height": 0
    },
    "executionInfo": {
     "elapsed": 8373,
     "status": "ok",
     "timestamp": 1619162472797,
     "user": {
      "displayName": "Kishore Shankar",
      "photoUrl": "",
      "userId": "11808713096947279794"
     },
     "user_tz": -330
    },
    "id": "a5fRQZ58sXvZ",
    "outputId": "3de35277-fd9d-4565-9c79-49affc01867c"
   },
   "outputs": [
    {
     "data": {
      "image/png": "[encoded data removed]",
      "text/plain": [
       "<Figure size 720x576 with 1 Axes>"
      ]
     },
     "metadata": {},
     "output_type": "display_data"
    }
   ],
   "source": [
    "st=rating.groupby('user_id')['rating'].std()\n",
    "sns.distplot(st)\n",
    "plt.show()"
   ]
  },
  {
   "cell_type": "markdown",
   "metadata": {
    "id": "iExqBOXLsXvd"
   },
   "source": [
    "It looks like:\n",
    "\n",
    "* Some people have only a single rating (likely the spike at 0)\n",
    "* A lot of people shuffle their ratings 1-2 points.\n",
    "* Some people have huge variance."
   ]
  },
  {
   "cell_type": "code",
   "execution_count": 13,
   "metadata": {
    "colab": {
     "base_uri": "https://localhost:8080/",
     "height": 0
    },
    "executionInfo": {
     "elapsed": 9214,
     "status": "ok",
     "timestamp": 1619162473642,
     "user": {
      "displayName": "Kishore Shankar",
      "photoUrl": "",
      "userId": "11808713096947279794"
     },
     "user_tz": -330
    },
    "id": "BGu6O_C_sXvf",
    "outputId": "7bdc42f4-239c-4ec4-f414-db25f9e5e72b"
   },
   "outputs": [
    {
     "data": {
      "image/png": "[encoded data removed]",
      "text/plain": [
       "<Figure size 720x576 with 1 Axes>"
      ]
     },
     "metadata": {},
     "output_type": "display_data"
    }
   ],
   "source": [
    "st=rating.groupby('user_id')['rating'].mean()\n",
    "sns.distplot(st)\n",
    "plt.show()"
   ]
  },
  {
   "cell_type": "markdown",
   "metadata": {
    "id": "5-FFg0wFsXvg"
   },
   "source": [
    "It looks like:\n",
    "\n",
    "* In general, most people rate the shows they like.\n",
    "* Some people only ratings things 10/10.\n",
    "* Most people rating things, on average, around an 8.0/10"
   ]
  },
  {
   "cell_type": "markdown",
   "metadata": {
    "id": "V2stbMVxsXvg"
   },
   "source": [
    "### How do ratings vary by number of episodes?"
   ]
  },
  {
   "cell_type": "code",
   "execution_count": 14,
   "metadata": {
    "colab": {
     "base_uri": "https://localhost:8080/",
     "height": 55
    },
    "executionInfo": {
     "elapsed": 37094,
     "status": "ok",
     "timestamp": 1619162501527,
     "user": {
      "displayName": "Kishore Shankar",
      "photoUrl": "",
      "userId": "11808713096947279794"
     },
     "user_tz": -330
    },
    "id": "0TTAGmWNsXvh",
    "outputId": "cd18c6df-4f72-41ec-d7b2-fccbb388e9f6"
   },
   "outputs": [
    {
     "data": {
      "image/png": "[encoded data removed]",
      "text/plain": [
       "<Figure size 1080x360 with 6 Axes>"
      ]
     },
     "metadata": {},
     "output_type": "display_data"
    }
   ],
   "source": [
    "plt.figure(figsize=(15,5))\n",
    "types=anime['type'].unique()\n",
    "color=['#fca815', '#064a5a', '#574634', '#f4473a','#6b724e', '#9e3532']\n",
    "for i,j in enumerate(types):\n",
    "    plt.subplot(2,3,i+1)\n",
    "    group= anime_fulldata[anime_fulldata['type']==j]\n",
    "    sns.scatterplot(group['episodes'],group['rating'],color=color[i])"
   ]
  },
  {
   "cell_type": "markdown",
   "metadata": {
    "id": "ARKAbS2FsXvk"
   },
   "source": [
    "### Distribution of Ratings"
   ]
  },
  {
   "cell_type": "code",
   "execution_count": 15,
   "metadata": {
    "colab": {
     "base_uri": "https://localhost:8080/",
     "height": 0
    },
    "executionInfo": {
     "elapsed": 37091,
     "status": "ok",
     "timestamp": 1619162501528,
     "user": {
      "displayName": "Kishore Shankar",
      "photoUrl": "",
      "userId": "11808713096947279794"
     },
     "user_tz": -330
    },
    "id": "ttT0Hc0qsXvk",
    "outputId": "61171dad-2971-473d-fd39-a698da7aad0b"
   },
   "outputs": [
    {
     "data": {
      "image/png": "[encoded data removed]",
      "text/plain": [
       "<Figure size 720x360 with 1 Axes>"
      ]
     },
     "metadata": {},
     "output_type": "display_data"
    }
   ],
   "source": [
    "plt.figure(figsize=(10,5))\n",
    "types=anime['type'].unique()\n",
    "for i in types:\n",
    "    sns.distplot(anime[anime['type']== i]['rating'],hist=False,label=i)\n",
    "plt.show()"
   ]
  },
  {
   "cell_type": "markdown",
   "metadata": {
    "id": "cD8X1n-PsXvl"
   },
   "source": [
    "### Percentage of anime types in the dataset"
   ]
  },
  {
   "cell_type": "code",
   "execution_count": 16,
   "metadata": {
    "colab": {
     "base_uri": "https://localhost:8080/",
     "height": 0
    },
    "execution": {
     "iopub.execute_input": "2020-11-17T06:33:32.022466Z",
     "iopub.status.busy": "2020-11-17T06:33:32.021310Z",
     "iopub.status.idle": "2020-11-17T06:33:32.227327Z",
     "shell.execute_reply": "2020-11-17T06:33:32.226583Z"
    },
    "executionInfo": {
     "elapsed": 37795,
     "status": "ok",
     "timestamp": 1619162502237,
     "user": {
      "displayName": "Kishore Shankar",
      "photoUrl": "",
      "userId": "11808713096947279794"
     },
     "user_tz": -330
    },
    "id": "cAKOvAvIsXvm",
    "outputId": "8a1cf7b6-bb2a-4bb3-8e45-2dd44c7cec26",
    "papermill": {
     "duration": 0.268738,
     "end_time": "2020-11-17T06:33:32.227445",
     "exception": false,
     "start_time": "2020-11-17T06:33:31.958707",
     "status": "completed"
    },
    "scrolled": false,
    "tags": []
   },
   "outputs": [
    {
     "data": {
      "application/vnd.plotly.v1+json": {
       "config": {
        "linkText": "Export to plot.ly",
        "plotlyServerURL": "https://plot.ly",
        "showLink": false
       },
       "data": [
        {
         "hoverinfo": "label+value",
         "labels": [
          "Music",
          "ONA",
          "Special",
          "Movie",
          "OVA",
          "TV"
         ],
         "type": "pie",
         "values": [
          487,
          613,
          1671,
          2344,
          3261,
          3578
         ]
        }
       ],
       "layout": {
        "template": {
         "data": {
          "bar": [
           {
            "error_x": {
             "color": "#2a3f5f"
            },
            "error_y": {
             "color": "#2a3f5f"
            },
            "marker": {
             "line": {
              "color": "#E5ECF6",
              "width": 0.5
             }
            },
            "type": "bar"
           }
          ],
          "barpolar": [
           {
            "marker": {
             "line": {
              "color": "#E5ECF6",
              "width": 0.5
             }
            },
            "type": "barpolar"
           }
          ],
          "carpet": [
           {
            "aaxis": {
             "endlinecolor": "#2a3f5f",
             "gridcolor": "white",
             "linecolor": "white",
             "minorgridcolor": "white",
             "startlinecolor": "#2a3f5f"
            },
            "baxis": {
             "endlinecolor": "#2a3f5f",
             "gridcolor": "white",
             "linecolor": "white",
             "minorgridcolor": "white",
             "startlinecolor": "#2a3f5f"
            },
            "type": "carpet"
           }
          ],
          "choropleth": [
           {
            "colorbar": {
             "outlinewidth": 0,
             "ticks": ""
            },
            "type": "choropleth"
           }
          ],
          "contour": [
           {
            "colorbar": {
             "outlinewidth": 0,
             "ticks": ""
            },
            "colorscale": [
             [
              0,
              "#0d0887"
             ],
             [
              0.1111111111111111,
              "#46039f"
             ],
             [
              0.2222222222222222,
              "#7201a8"
             ],
             [
              0.3333333333333333,
              "#9c179e"
             ],
             [
              0.4444444444444444,
              "#bd3786"
             ],
             [
              0.5555555555555556,
              "#d8576b"
             ],
             [
              0.6666666666666666,
              "#ed7953"
             ],
             [
              0.7777777777777778,
              "#fb9f3a"
             ],
             [
              0.8888888888888888,
              "#fdca26"
             ],
             [
              1,
              "#f0f921"
             ]
            ],
            "type": "contour"
           }
          ],
          "contourcarpet": [
           {
            "colorbar": {
             "outlinewidth": 0,
             "ticks": ""
            },
            "type": "contourcarpet"
           }
          ],
          "heatmap": [
           {
            "colorbar": {
             "outlinewidth": 0,
             "ticks": ""
            },
            "colorscale": [
             [
              0,
              "#0d0887"
             ],
             [
              0.1111111111111111,
              "#46039f"
             ],
             [
              0.2222222222222222,
              "#7201a8"
             ],
             [
              0.3333333333333333,
              "#9c179e"
             ],
             [
              0.4444444444444444,
              "#bd3786"
             ],
             [
              0.5555555555555556,
              "#d8576b"
             ],
             [
              0.6666666666666666,
              "#ed7953"
             ],
             [
              0.7777777777777778,
              "#fb9f3a"
             ],
             [
              0.8888888888888888,
              "#fdca26"
             ],
             [
              1,
              "#f0f921"
             ]
            ],
            "type": "heatmap"
           }
          ],
          "heatmapgl": [
           {
            "colorbar": {
             "outlinewidth": 0,
             "ticks": ""
            },
            "colorscale": [
             [
              0,
              "#0d0887"
             ],
             [
              0.1111111111111111,
              "#46039f"
             ],
             [
              0.2222222222222222,
              "#7201a8"
             ],
             [
              0.3333333333333333,
              "#9c179e"
             ],
             [
              0.4444444444444444,
              "#bd3786"
             ],
             [
              0.5555555555555556,
              "#d8576b"
             ],
             [
              0.6666666666666666,
              "#ed7953"
             ],
             [
              0.7777777777777778,
              "#fb9f3a"
             ],
             [
              0.8888888888888888,
              "#fdca26"
             ],
             [
              1,
              "#f0f921"
             ]
            ],
            "type": "heatmapgl"
           }
          ],
          "histogram": [
           {
            "marker": {
             "colorbar": {
              "outlinewidth": 0,
              "ticks": ""
             }
            },
            "type": "histogram"
           }
          ],
          "histogram2d": [
           {
            "colorbar": {
             "outlinewidth": 0,
             "ticks": ""
            },
            "colorscale": [
             [
              0,
              "#0d0887"
             ],
             [
              0.1111111111111111,
              "#46039f"
             ],
             [
              0.2222222222222222,
              "#7201a8"
             ],
             [
              0.3333333333333333,
              "#9c179e"
             ],
             [
              0.4444444444444444,
              "#bd3786"
             ],
             [
              0.5555555555555556,
              "#d8576b"
             ],
             [
              0.6666666666666666,
              "#ed7953"
             ],
             [
              0.7777777777777778,
              "#fb9f3a"
             ],
             [
              0.8888888888888888,
              "#fdca26"
             ],
             [
              1,
              "#f0f921"
             ]
            ],
            "type": "histogram2d"
           }
          ],
          "histogram2dcontour": [
           {
            "colorbar": {
             "outlinewidth": 0,
             "ticks": ""
            },
            "colorscale": [
             [
              0,
              "#0d0887"
             ],
             [
              0.1111111111111111,
              "#46039f"
             ],
             [
              0.2222222222222222,
              "#7201a8"
             ],
             [
              0.3333333333333333,
              "#9c179e"
             ],
             [
              0.4444444444444444,
              "#bd3786"
             ],
             [
              0.5555555555555556,
              "#d8576b"
             ],
             [
              0.6666666666666666,
              "#ed7953"
             ],
             [
              0.7777777777777778,
              "#fb9f3a"
             ],
             [
              0.8888888888888888,
              "#fdca26"
             ],
             [
              1,
              "#f0f921"
             ]
            ],
            "type": "histogram2dcontour"
           }
          ],
          "mesh3d": [
           {
            "colorbar": {
             "outlinewidth": 0,
             "ticks": ""
            },
            "type": "mesh3d"
           }
          ],
          "parcoords": [
           {
            "line": {
             "colorbar": {
              "outlinewidth": 0,
              "ticks": ""
             }
            },
            "type": "parcoords"
           }
          ],
          "pie": [
           {
            "automargin": true,
            "type": "pie"
           }
          ],
          "scatter": [
           {
            "marker": {
             "colorbar": {
              "outlinewidth": 0,
              "ticks": ""
             }
            },
            "type": "scatter"
           }
          ],
          "scatter3d": [
           {
            "line": {
             "colorbar": {
              "outlinewidth": 0,
              "ticks": ""
             }
            },
            "marker": {
             "colorbar": {
              "outlinewidth": 0,
              "ticks": ""
             }
            },
            "type": "scatter3d"
           }
          ],
          "scattercarpet": [
           {
            "marker": {
             "colorbar": {
              "outlinewidth": 0,
              "ticks": ""
             }
            },
            "type": "scattercarpet"
           }
          ],
          "scattergeo": [
           {
            "marker": {
             "colorbar": {
              "outlinewidth": 0,
              "ticks": ""
             }
            },
            "type": "scattergeo"
           }
          ],
          "scattergl": [
           {
            "marker": {
             "colorbar": {
              "outlinewidth": 0,
              "ticks": ""
             }
            },
            "type": "scattergl"
           }
          ],
          "scattermapbox": [
           {
            "marker": {
             "colorbar": {
              "outlinewidth": 0,
              "ticks": ""
             }
            },
            "type": "scattermapbox"
           }
          ],
          "scatterpolar": [
           {
            "marker": {
             "colorbar": {
              "outlinewidth": 0,
              "ticks": ""
             }
            },
            "type": "scatterpolar"
           }
          ],
          "scatterpolargl": [
           {
            "marker": {
             "colorbar": {
              "outlinewidth": 0,
              "ticks": ""
             }
            },
            "type": "scatterpolargl"
           }
          ],
          "scatterternary": [
           {
            "marker": {
             "colorbar": {
              "outlinewidth": 0,
              "ticks": ""
             }
            },
            "type": "scatterternary"
           }
          ],
          "surface": [
           {
            "colorbar": {
             "outlinewidth": 0,
             "ticks": ""
            },
            "colorscale": [
             [
              0,
              "#0d0887"
             ],
             [
              0.1111111111111111,
              "#46039f"
             ],
             [
              0.2222222222222222,
              "#7201a8"
             ],
             [
              0.3333333333333333,
              "#9c179e"
             ],
             [
              0.4444444444444444,
              "#bd3786"
             ],
             [
              0.5555555555555556,
              "#d8576b"
             ],
             [
              0.6666666666666666,
              "#ed7953"
             ],
             [
              0.7777777777777778,
              "#fb9f3a"
             ],
             [
              0.8888888888888888,
              "#fdca26"
             ],
             [
              1,
              "#f0f921"
             ]
            ],
            "type": "surface"
           }
          ],
          "table": [
           {
            "cells": {
             "fill": {
              "color": "#EBF0F8"
             },
             "line": {
              "color": "white"
             }
            },
            "header": {
             "fill": {
              "color": "#C8D4E3"
             },
             "line": {
              "color": "white"
             }
            },
            "type": "table"
           }
          ]
         },
         "layout": {
          "annotationdefaults": {
           "arrowcolor": "#2a3f5f",
           "arrowhead": 0,
           "arrowwidth": 1
          },
          "coloraxis": {
           "colorbar": {
            "outlinewidth": 0,
            "ticks": ""
           }
          },
          "colorscale": {
           "diverging": [
            [
             0,
             "#8e0152"
            ],
            [
             0.1,
             "#c51b7d"
            ],
            [
             0.2,
             "#de77ae"
            ],
            [
             0.3,
             "#f1b6da"
            ],
            [
             0.4,
             "#fde0ef"
            ],
            [
             0.5,
             "#f7f7f7"
            ],
            [
             0.6,
             "#e6f5d0"
            ],
            [
             0.7,
             "#b8e186"
            ],
            [
             0.8,
             "#7fbc41"
            ],
            [
             0.9,
             "#4d9221"
            ],
            [
             1,
             "#276419"
            ]
           ],
           "sequential": [
            [
             0,
             "#0d0887"
            ],
            [
             0.1111111111111111,
             "#46039f"
            ],
            [
             0.2222222222222222,
             "#7201a8"
            ],
            [
             0.3333333333333333,
             "#9c179e"
            ],
            [
             0.4444444444444444,
             "#bd3786"
            ],
            [
             0.5555555555555556,
             "#d8576b"
            ],
            [
             0.6666666666666666,
             "#ed7953"
            ],
            [
             0.7777777777777778,
             "#fb9f3a"
            ],
            [
             0.8888888888888888,
             "#fdca26"
            ],
            [
             1,
             "#f0f921"
            ]
           ],
           "sequentialminus": [
            [
             0,
             "#0d0887"
            ],
            [
             0.1111111111111111,
             "#46039f"
            ],
            [
             0.2222222222222222,
             "#7201a8"
            ],
            [
             0.3333333333333333,
             "#9c179e"
            ],
            [
             0.4444444444444444,
             "#bd3786"
            ],
            [
             0.5555555555555556,
             "#d8576b"
            ],
            [
             0.6666666666666666,
             "#ed7953"
            ],
            [
             0.7777777777777778,
             "#fb9f3a"
            ],
            [
             0.8888888888888888,
             "#fdca26"
            ],
            [
             1,
             "#f0f921"
            ]
           ]
          },
          "colorway": [
           "#636efa",
           "#EF553B",
           "#00cc96",
           "#ab63fa",
           "#FFA15A",
           "#19d3f3",
           "#FF6692",
           "#B6E880",
           "#FF97FF",
           "#FECB52"
          ],
          "font": {
           "color": "#2a3f5f"
          },
          "geo": {
           "bgcolor": "white",
           "lakecolor": "white",
           "landcolor": "#E5ECF6",
           "showlakes": true,
           "showland": true,
           "subunitcolor": "white"
          },
          "hoverlabel": {
           "align": "left"
          },
          "hovermode": "closest",
          "mapbox": {
           "style": "light"
          },
          "paper_bgcolor": "white",
          "plot_bgcolor": "#E5ECF6",
          "polar": {
           "angularaxis": {
            "gridcolor": "white",
            "linecolor": "white",
            "ticks": ""
           },
           "bgcolor": "#E5ECF6",
           "radialaxis": {
            "gridcolor": "white",
            "linecolor": "white",
            "ticks": ""
           }
          },
          "scene": {
           "xaxis": {
            "backgroundcolor": "#E5ECF6",
            "gridcolor": "white",
            "gridwidth": 2,
            "linecolor": "white",
            "showbackground": true,
            "ticks": "",
            "zerolinecolor": "white"
           },
           "yaxis": {
            "backgroundcolor": "#E5ECF6",
            "gridcolor": "white",
            "gridwidth": 2,
            "linecolor": "white",
            "showbackground": true,
            "ticks": "",
            "zerolinecolor": "white"
           },
           "zaxis": {
            "backgroundcolor": "#E5ECF6",
            "gridcolor": "white",
            "gridwidth": 2,
            "linecolor": "white",
            "showbackground": true,
            "ticks": "",
            "zerolinecolor": "white"
           }
          },
          "shapedefaults": {
           "line": {
            "color": "#2a3f5f"
           }
          },
          "ternary": {
           "aaxis": {
            "gridcolor": "white",
            "linecolor": "white",
            "ticks": ""
           },
           "baxis": {
            "gridcolor": "white",
            "linecolor": "white",
            "ticks": ""
           },
           "bgcolor": "#E5ECF6",
           "caxis": {
            "gridcolor": "white",
            "linecolor": "white",
            "ticks": ""
           }
          },
          "title": {
           "x": 0.05
          },
          "xaxis": {
           "automargin": true,
           "gridcolor": "white",
           "linecolor": "white",
           "ticks": "",
           "title": {
            "standoff": 15
           },
           "zerolinecolor": "white",
           "zerolinewidth": 2
          },
          "yaxis": {
           "automargin": true,
           "gridcolor": "white",
           "linecolor": "white",
           "ticks": "",
           "title": {
            "standoff": 15
           },
           "zerolinecolor": "white",
           "zerolinewidth": 2
          }
         }
        }
       }
      },
      "text/html": [
       "<div>                            <div id=\"e80775f0-a8f6-47cf-b7f7-dd859b724e96\" class=\"plotly-graph-div\" style=\"height:525px; width:100%;\"></div>            <script type=\"text/javascript\">                require([\"plotly\"], function(Plotly) {                    window.PLOTLYENV=window.PLOTLYENV || {};                                    if (document.getElementById(\"e80775f0-a8f6-47cf-b7f7-dd859b724e96\")) {                    Plotly.newPlot(                        \"e80775f0-a8f6-47cf-b7f7-dd859b724e96\",                        [{\"hoverinfo\": \"label+value\", \"labels\": [\"Music\", \"ONA\", \"Special\", \"Movie\", \"OVA\", \"TV\"], \"type\": \"pie\", \"values\": [487, 613, 1671, 2344, 3261, 3578]}],                        {\"template\": {\"data\": {\"bar\": [{\"error_x\": {\"color\": \"#2a3f5f\"}, \"error_y\": {\"color\": \"#2a3f5f\"}, \"marker\": {\"line\": {\"color\": \"#E5ECF6\", \"width\": 0.5}}, \"type\": \"bar\"}], \"barpolar\": [{\"marker\": {\"line\": {\"color\": \"#E5ECF6\", \"width\": 0.5}}, \"type\": \"barpolar\"}], \"carpet\": [{\"aaxis\": {\"endlinecolor\": \"#2a3f5f\", \"gridcolor\": \"white\", \"linecolor\": \"white\", \"minorgridcolor\": \"white\", \"startlinecolor\": \"#2a3f5f\"}, \"baxis\": {\"endlinecolor\": \"#2a3f5f\", \"gridcolor\": \"white\", \"linecolor\": \"white\", \"minorgridcolor\": \"white\", \"startlinecolor\": \"#2a3f5f\"}, \"type\": \"carpet\"}], \"choropleth\": [{\"colorbar\": {\"outlinewidth\": 0, \"ticks\": \"\"}, \"type\": \"choropleth\"}], \"contour\": [{\"colorbar\": {\"outlinewidth\": 0, \"ticks\": \"\"}, \"colorscale\": [[0.0, \"#0d0887\"], [0.1111111111111111, \"#46039f\"], [0.2222222222222222, \"#7201a8\"], [0.3333333333333333, \"#9c179e\"], [0.4444444444444444, \"#bd3786\"], [0.5555555555555556, \"#d8576b\"], [0.6666666666666666, \"#ed7953\"], [0.7777777777777778, \"#fb9f3a\"], [0.8888888888888888, \"#fdca26\"], [1.0, \"#f0f921\"]], \"type\": \"contour\"}], \"contourcarpet\": [{\"colorbar\": {\"outlinewidth\": 0, \"ticks\": \"\"}, \"type\": \"contourcarpet\"}], \"heatmap\": [{\"colorbar\": {\"outlinewidth\": 0, \"ticks\": \"\"}, \"colorscale\": [[0.0, \"#0d0887\"], [0.1111111111111111, \"#46039f\"], [0.2222222222222222, \"#7201a8\"], [0.3333333333333333, \"#9c179e\"], [0.4444444444444444, \"#bd3786\"], [0.5555555555555556, \"#d8576b\"], [0.6666666666666666, \"#ed7953\"], [0.7777777777777778, \"#fb9f3a\"], [0.8888888888888888, \"#fdca26\"], [1.0, \"#f0f921\"]], \"type\": \"heatmap\"}], \"heatmapgl\": [{\"colorbar\": {\"outlinewidth\": 0, \"ticks\": \"\"}, \"colorscale\": [[0.0, \"#0d0887\"], [0.1111111111111111, \"#46039f\"], [0.2222222222222222, \"#7201a8\"], [0.3333333333333333, \"#9c179e\"], [0.4444444444444444, \"#bd3786\"], [0.5555555555555556, \"#d8576b\"], [0.6666666666666666, \"#ed7953\"], [0.7777777777777778, \"#fb9f3a\"], [0.8888888888888888, \"#fdca26\"], [1.0, \"#f0f921\"]], \"type\": \"heatmapgl\"}], \"histogram\": [{\"marker\": {\"colorbar\": {\"outlinewidth\": 0, \"ticks\": \"\"}}, \"type\": \"histogram\"}], \"histogram2d\": [{\"colorbar\": {\"outlinewidth\": 0, \"ticks\": \"\"}, \"colorscale\": [[0.0, \"#0d0887\"], [0.1111111111111111, \"#46039f\"], [0.2222222222222222, \"#7201a8\"], [0.3333333333333333, \"#9c179e\"], [0.4444444444444444, \"#bd3786\"], [0.5555555555555556, \"#d8576b\"], [0.6666666666666666, \"#ed7953\"], [0.7777777777777778, \"#fb9f3a\"], [0.8888888888888888, \"#fdca26\"], [1.0, \"#f0f921\"]], \"type\": \"histogram2d\"}], \"histogram2dcontour\": [{\"colorbar\": {\"outlinewidth\": 0, \"ticks\": \"\"}, \"colorscale\": [[0.0, \"#0d0887\"], [0.1111111111111111, \"#46039f\"], [0.2222222222222222, \"#7201a8\"], [0.3333333333333333, \"#9c179e\"], [0.4444444444444444, \"#bd3786\"], [0.5555555555555556, \"#d8576b\"], [0.6666666666666666, \"#ed7953\"], [0.7777777777777778, \"#fb9f3a\"], [0.8888888888888888, \"#fdca26\"], [1.0, \"#f0f921\"]], \"type\": \"histogram2dcontour\"}], \"mesh3d\": [{\"colorbar\": {\"outlinewidth\": 0, \"ticks\": \"\"}, \"type\": \"mesh3d\"}], \"parcoords\": [{\"line\": {\"colorbar\": {\"outlinewidth\": 0, \"ticks\": \"\"}}, \"type\": \"parcoords\"}], \"pie\": [{\"automargin\": true, \"type\": \"pie\"}], \"scatter\": [{\"marker\": {\"colorbar\": {\"outlinewidth\": 0, \"ticks\": \"\"}}, \"type\": \"scatter\"}], \"scatter3d\": [{\"line\": {\"colorbar\": {\"outlinewidth\": 0, \"ticks\": \"\"}}, \"marker\": {\"colorbar\": {\"outlinewidth\": 0, \"ticks\": \"\"}}, \"type\": \"scatter3d\"}], \"scattercarpet\": [{\"marker\": {\"colorbar\": {\"outlinewidth\": 0, \"ticks\": \"\"}}, \"type\": \"scattercarpet\"}], \"scattergeo\": [{\"marker\": {\"colorbar\": {\"outlinewidth\": 0, \"ticks\": \"\"}}, \"type\": \"scattergeo\"}], \"scattergl\": [{\"marker\": {\"colorbar\": {\"outlinewidth\": 0, \"ticks\": \"\"}}, \"type\": \"scattergl\"}], \"scattermapbox\": [{\"marker\": {\"colorbar\": {\"outlinewidth\": 0, \"ticks\": \"\"}}, \"type\": \"scattermapbox\"}], \"scatterpolar\": [{\"marker\": {\"colorbar\": {\"outlinewidth\": 0, \"ticks\": \"\"}}, \"type\": \"scatterpolar\"}], \"scatterpolargl\": [{\"marker\": {\"colorbar\": {\"outlinewidth\": 0, \"ticks\": \"\"}}, \"type\": \"scatterpolargl\"}], \"scatterternary\": [{\"marker\": {\"colorbar\": {\"outlinewidth\": 0, \"ticks\": \"\"}}, \"type\": \"scatterternary\"}], \"surface\": [{\"colorbar\": {\"outlinewidth\": 0, \"ticks\": \"\"}, \"colorscale\": [[0.0, \"#0d0887\"], [0.1111111111111111, \"#46039f\"], [0.2222222222222222, \"#7201a8\"], [0.3333333333333333, \"#9c179e\"], [0.4444444444444444, \"#bd3786\"], [0.5555555555555556, \"#d8576b\"], [0.6666666666666666, \"#ed7953\"], [0.7777777777777778, \"#fb9f3a\"], [0.8888888888888888, \"#fdca26\"], [1.0, \"#f0f921\"]], \"type\": \"surface\"}], \"table\": [{\"cells\": {\"fill\": {\"color\": \"#EBF0F8\"}, \"line\": {\"color\": \"white\"}}, \"header\": {\"fill\": {\"color\": \"#C8D4E3\"}, \"line\": {\"color\": \"white\"}}, \"type\": \"table\"}]}, \"layout\": {\"annotationdefaults\": {\"arrowcolor\": \"#2a3f5f\", \"arrowhead\": 0, \"arrowwidth\": 1}, \"coloraxis\": {\"colorbar\": {\"outlinewidth\": 0, \"ticks\": \"\"}}, \"colorscale\": {\"diverging\": [[0, \"#8e0152\"], [0.1, \"#c51b7d\"], [0.2, \"#de77ae\"], [0.3, \"#f1b6da\"], [0.4, \"#fde0ef\"], [0.5, \"#f7f7f7\"], [0.6, \"#e6f5d0\"], [0.7, \"#b8e186\"], [0.8, \"#7fbc41\"], [0.9, \"#4d9221\"], [1, \"#276419\"]], \"sequential\": [[0.0, \"#0d0887\"], [0.1111111111111111, \"#46039f\"], [0.2222222222222222, \"#7201a8\"], [0.3333333333333333, \"#9c179e\"], [0.4444444444444444, \"#bd3786\"], [0.5555555555555556, \"#d8576b\"], [0.6666666666666666, \"#ed7953\"], [0.7777777777777778, \"#fb9f3a\"], [0.8888888888888888, \"#fdca26\"], [1.0, \"#f0f921\"]], \"sequentialminus\": [[0.0, \"#0d0887\"], [0.1111111111111111, \"#46039f\"], [0.2222222222222222, \"#7201a8\"], [0.3333333333333333, \"#9c179e\"], [0.4444444444444444, \"#bd3786\"], [0.5555555555555556, \"#d8576b\"], [0.6666666666666666, \"#ed7953\"], [0.7777777777777778, \"#fb9f3a\"], [0.8888888888888888, \"#fdca26\"], [1.0, \"#f0f921\"]]}, \"colorway\": [\"#636efa\", \"#EF553B\", \"#00cc96\", \"#ab63fa\", \"#FFA15A\", \"#19d3f3\", \"#FF6692\", \"#B6E880\", \"#FF97FF\", \"#FECB52\"], \"font\": {\"color\": \"#2a3f5f\"}, \"geo\": {\"bgcolor\": \"white\", \"lakecolor\": \"white\", \"landcolor\": \"#E5ECF6\", \"showlakes\": true, \"showland\": true, \"subunitcolor\": \"white\"}, \"hoverlabel\": {\"align\": \"left\"}, \"hovermode\": \"closest\", \"mapbox\": {\"style\": \"light\"}, \"paper_bgcolor\": \"white\", \"plot_bgcolor\": \"#E5ECF6\", \"polar\": {\"angularaxis\": {\"gridcolor\": \"white\", \"linecolor\": \"white\", \"ticks\": \"\"}, \"bgcolor\": \"#E5ECF6\", \"radialaxis\": {\"gridcolor\": \"white\", \"linecolor\": \"white\", \"ticks\": \"\"}}, \"scene\": {\"xaxis\": {\"backgroundcolor\": \"#E5ECF6\", \"gridcolor\": \"white\", \"gridwidth\": 2, \"linecolor\": \"white\", \"showbackground\": true, \"ticks\": \"\", \"zerolinecolor\": \"white\"}, \"yaxis\": {\"backgroundcolor\": \"#E5ECF6\", \"gridcolor\": \"white\", \"gridwidth\": 2, \"linecolor\": \"white\", \"showbackground\": true, \"ticks\": \"\", \"zerolinecolor\": \"white\"}, \"zaxis\": {\"backgroundcolor\": \"#E5ECF6\", \"gridcolor\": \"white\", \"gridwidth\": 2, \"linecolor\": \"white\", \"showbackground\": true, \"ticks\": \"\", \"zerolinecolor\": \"white\"}}, \"shapedefaults\": {\"line\": {\"color\": \"#2a3f5f\"}}, \"ternary\": {\"aaxis\": {\"gridcolor\": \"white\", \"linecolor\": \"white\", \"ticks\": \"\"}, \"baxis\": {\"gridcolor\": \"white\", \"linecolor\": \"white\", \"ticks\": \"\"}, \"bgcolor\": \"#E5ECF6\", \"caxis\": {\"gridcolor\": \"white\", \"linecolor\": \"white\", \"ticks\": \"\"}}, \"title\": {\"x\": 0.05}, \"xaxis\": {\"automargin\": true, \"gridcolor\": \"white\", \"linecolor\": \"white\", \"ticks\": \"\", \"title\": {\"standoff\": 15}, \"zerolinecolor\": \"white\", \"zerolinewidth\": 2}, \"yaxis\": {\"automargin\": true, \"gridcolor\": \"white\", \"linecolor\": \"white\", \"ticks\": \"\", \"title\": {\"standoff\": 15}, \"zerolinecolor\": \"white\", \"zerolinewidth\": 2}}}},                        {\"responsive\": true}                    ).then(function(){\n",
       "                            \n",
       "var gd = document.getElementById('e80775f0-a8f6-47cf-b7f7-dd859b724e96');\n",
       "var x = new MutationObserver(function (mutations, observer) {{\n",
       "        var display = window.getComputedStyle(gd).display;\n",
       "        if (!display || display === 'none') {{\n",
       "            console.log([gd, 'removed!']);\n",
       "            Plotly.purge(gd);\n",
       "            observer.disconnect();\n",
       "        }}\n",
       "}});\n",
       "\n",
       "// Listen for the removal of the full notebook cells\n",
       "var notebookContainer = gd.closest('#notebook-container');\n",
       "if (notebookContainer) {{\n",
       "    x.observe(notebookContainer, {childList: true});\n",
       "}}\n",
       "\n",
       "// Listen for the clearing of the current output cell\n",
       "var outputEl = gd.closest('.output');\n",
       "if (outputEl) {{\n",
       "    x.observe(outputEl, {childList: true});\n",
       "}}\n",
       "\n",
       "                        })                };                });            </script>        </div>"
      ]
     },
     "metadata": {},
     "output_type": "display_data"
    }
   ],
   "source": [
    "num_of_type_of_anime  = anime.type.value_counts().sort_values(ascending=True)\n",
    "data = [go.Pie(labels = num_of_type_of_anime.index, values = num_of_type_of_anime.values, hoverinfo = 'label+value')]\n",
    "plotly.offline.iplot(data, filename='active category')"
   ]
  },
  {
   "cell_type": "markdown",
   "metadata": {
    "id": "V47KexNMsXvn",
    "papermill": {
     "duration": 0.035988,
     "end_time": "2020-11-17T06:33:32.299587",
     "exception": false,
     "start_time": "2020-11-17T06:33:32.263599",
     "status": "completed"
    },
    "tags": []
   },
   "source": [
    "TV, OVA, and Movie have a high proportion of anime."
   ]
  },
  {
   "cell_type": "code",
   "execution_count": 17,
   "metadata": {
    "colab": {
     "base_uri": "https://localhost:8080/",
     "height": 0
    },
    "execution": {
     "iopub.execute_input": "2020-11-17T06:33:32.381489Z",
     "iopub.status.busy": "2020-11-17T06:33:32.380685Z",
     "iopub.status.idle": "2020-11-17T06:33:32.581491Z",
     "shell.execute_reply": "2020-11-17T06:33:32.580859Z"
    },
    "executionInfo": {
     "elapsed": 37792,
     "status": "ok",
     "timestamp": 1619162502240,
     "user": {
      "displayName": "Kishore Shankar",
      "photoUrl": "",
      "userId": "11808713096947279794"
     },
     "user_tz": -330
    },
    "id": "6tXdUS-zsXvn",
    "outputId": "eef59af7-1f2f-4830-f9ca-8c827d71c1e1",
    "papermill": {
     "duration": 0.2463,
     "end_time": "2020-11-17T06:33:32.581611",
     "exception": false,
     "start_time": "2020-11-17T06:33:32.335311",
     "status": "completed"
    },
    "tags": []
   },
   "outputs": [
    {
     "data": {
      "image/png": "[encoded data removed]",
      "text/plain": [
       "<Figure size 864x576 with 1 Axes>"
      ]
     },
     "metadata": {},
     "output_type": "display_data"
    }
   ],
   "source": [
    "data=anime['rating'].groupby(anime.type).mean()\n",
    "x=data.index\n",
    "y=data.values\n",
    "\n",
    "plt.figure(figsize=(12,8))\n",
    "plt.title('Average rating by type',fontsize=20)\n",
    "plt.bar(x,y,color='#e0a23d',alpha=0.5)\n",
    "for i,j in zip(x,y):\n",
    "    plt.text(i,j+0.1,'%.2f'%j,ha='center',va='bottom',fontsize=12)\n",
    "plt.tick_params(labelsize=14)\n",
    "plt.show()"
   ]
  },
  {
   "cell_type": "markdown",
   "metadata": {
    "id": "m5N0yPqasXvu",
    "papermill": {
     "duration": 0.036942,
     "end_time": "2020-11-17T06:33:32.655927",
     "exception": false,
     "start_time": "2020-11-17T06:33:32.618985",
     "status": "completed"
    },
    "tags": []
   },
   "source": [
    "TV has the highest score, with an average score close to 7."
   ]
  },
  {
   "cell_type": "code",
   "execution_count": 18,
   "metadata": {
    "colab": {
     "base_uri": "https://localhost:8080/",
     "height": 610
    },
    "execution": {
     "iopub.execute_input": "2020-11-17T06:33:34.064251Z",
     "iopub.status.busy": "2020-11-17T06:33:34.057637Z",
     "iopub.status.idle": "2020-11-17T06:33:34.294949Z",
     "shell.execute_reply": "2020-11-17T06:33:34.295545Z"
    },
    "executionInfo": {
     "elapsed": 38713,
     "status": "ok",
     "timestamp": 1619162503204,
     "user": {
      "displayName": "Kishore Shankar",
      "photoUrl": "",
      "userId": "11808713096947279794"
     },
     "user_tz": -330
    },
    "id": "eOgnX0vssXv0",
    "outputId": "b4696912-784a-4d90-fbc6-e46bf2f68f61",
    "papermill": {
     "duration": 0.296533,
     "end_time": "2020-11-17T06:33:34.295745",
     "exception": false,
     "start_time": "2020-11-17T06:33:33.999212",
     "status": "completed"
    },
    "tags": []
   },
   "outputs": [
    {
     "data": {
      "image/png": "[encoded data removed]",
      "text/plain": [
       "<Figure size 1008x720 with 1 Axes>"
      ]
     },
     "metadata": {},
     "output_type": "display_data"
    }
   ],
   "source": [
    "x=anime_fulldata.genre.value_counts()[:10].index\n",
    "y=anime_fulldata.genre.value_counts()[:10].values\n",
    "\n",
    "plt.figure(figsize=(14,10))\n",
    "sns.barplot(y, x, color='g', alpha=0.5, palette='Dark2')\n",
    "plt.title('TOP 10 of Anime by Genre', fontsize=20)\n",
    "plt.tick_params(labelsize=14)"
   ]
  },
  {
   "cell_type": "markdown",
   "metadata": {
    "id": "NBM7SiEwsXv1",
    "papermill": {
     "duration": 0.048358,
     "end_time": "2020-11-17T06:33:34.391006",
     "exception": false,
     "start_time": "2020-11-17T06:33:34.342648",
     "status": "completed"
    },
    "tags": []
   },
   "source": [
    "The most animes are Action and Comedy."
   ]
  },
  {
   "cell_type": "code",
   "execution_count": 19,
   "metadata": {},
   "outputs": [
    {
     "data": {
      "image/png": "[encoded data removed]",
      "text/plain": [
       "<Figure size 1008x576 with 2 Axes>"
      ]
     },
     "metadata": {},
     "output_type": "display_data"
    }
   ],
   "source": [
    "plt.figure(figsize=(14,8))\n",
    "anime_fulldata_copy = anime_fulldata.copy()\n",
    "anime_fulldata_copy['anime_id'] = anime_fulldata_copy['anime_id'].astype('O')\n",
    "anime_fulldata_copy['user_id'] = anime_fulldata_copy['user_id'].astype('O')\n",
    "sns.heatmap(anime_fulldata_copy.corr(), annot=True)\n",
    "plt.show()"
   ]
  },
  {
   "cell_type": "code",
   "execution_count": 20,
   "metadata": {
    "colab": {
     "base_uri": "https://localhost:8080/",
     "height": 0
    },
    "execution": {
     "iopub.execute_input": "2020-11-17T06:33:34.504392Z",
     "iopub.status.busy": "2020-11-17T06:33:34.497304Z",
     "iopub.status.idle": "2020-11-17T06:33:35.338951Z",
     "shell.execute_reply": "2020-11-17T06:33:35.338212Z"
    },
    "executionInfo": {
     "elapsed": 39625,
     "status": "ok",
     "timestamp": 1619162504124,
     "user": {
      "displayName": "Kishore Shankar",
      "photoUrl": "",
      "userId": "11808713096947279794"
     },
     "user_tz": -330
    },
    "id": "WtrUsd2-sXv1",
    "outputId": "8092c86e-b10f-4012-fdbd-117661ad22e5",
    "papermill": {
     "duration": 0.900391,
     "end_time": "2020-11-17T06:33:35.339089",
     "exception": false,
     "start_time": "2020-11-17T06:33:34.438698",
     "status": "completed"
    },
    "tags": []
   },
   "outputs": [
    {
     "data": {
      "image/png": "[encoded data removed]",
      "text/plain": [
       "<Figure size 1008x576 with 1 Axes>"
      ]
     },
     "metadata": {},
     "output_type": "display_data"
    }
   ],
   "source": [
    "x=anime['members']\n",
    "y=anime['rating']\n",
    "\n",
    "plt.figure(figsize=(14,8))\n",
    "sns.scatterplot(x,y,color='red')\n",
    "ax=plt.gca()\n",
    "ax.set_xscale('log')\n",
    "plt.title('rating VS members',fontsize=20)\n",
    "plt.tick_params(labelsize=14)\n",
    "plt.xlabel('members',fontsize=14)\n",
    "plt.ylabel('rating',fontsize=14)\n",
    "plt.show()"
   ]
  },
  {
   "cell_type": "markdown",
   "metadata": {
    "id": "WO3vq4YMsXv2",
    "papermill": {
     "duration": 0.045819,
     "end_time": "2020-11-17T06:33:35.431209",
     "exception": false,
     "start_time": "2020-11-17T06:33:35.385390",
     "status": "completed"
    },
    "tags": []
   },
   "source": [
    "As the number of people who like anime increases, the anime ratings increases."
   ]
  },
  {
   "cell_type": "markdown",
   "metadata": {},
   "source": [
    "# Recommendation\n",
    "## Popularity based recommendation"
   ]
  },
  {
   "cell_type": "code",
   "execution_count": 134,
   "metadata": {
    "colab": {
     "base_uri": "https://localhost:8080/",
     "height": 373
    },
    "id": "uL9vfhXkQ2Pm",
    "outputId": "bb6a9a65-31e4-4ea7-ff9c-85b4ba175e9c"
   },
   "outputs": [
    {
     "data": {
      "text/html": [
       "<div>\n",
       "<style scoped>\n",
       "    .dataframe tbody tr th:only-of-type {\n",
       "        vertical-align: middle;\n",
       "    }\n",
       "\n",
       "    .dataframe tbody tr th {\n",
       "        vertical-align: top;\n",
       "    }\n",
       "\n",
       "    .dataframe thead th {\n",
       "        text-align: right;\n",
       "    }\n",
       "</style>\n",
       "<table border=\"1\" class=\"dataframe\">\n",
       "  <thead>\n",
       "    <tr style=\"text-align: right;\">\n",
       "      <th></th>\n",
       "      <th>rating</th>\n",
       "      <th>members</th>\n",
       "    </tr>\n",
       "    <tr>\n",
       "      <th>anime_title</th>\n",
       "      <th></th>\n",
       "      <th></th>\n",
       "    </tr>\n",
       "  </thead>\n",
       "  <tbody>\n",
       "    <tr>\n",
       "      <th>Fullmetal Alchemist: Brotherhood</th>\n",
       "      <td>9.260000</td>\n",
       "      <td>24574</td>\n",
       "    </tr>\n",
       "    <tr>\n",
       "      <th>Code Geass: Hangyaku no Lelouch R2</th>\n",
       "      <td>8.980000</td>\n",
       "      <td>24242</td>\n",
       "    </tr>\n",
       "    <tr>\n",
       "      <th>Sen to Chihiro no Kamikakushi</th>\n",
       "      <td>8.930000</td>\n",
       "      <td>22974</td>\n",
       "    </tr>\n",
       "    <tr>\n",
       "      <th>Code Geass: Hangyaku no Lelouch</th>\n",
       "      <td>8.830000</td>\n",
       "      <td>27718</td>\n",
       "    </tr>\n",
       "    <tr>\n",
       "      <th>Death Note</th>\n",
       "      <td>8.710000</td>\n",
       "      <td>39340</td>\n",
       "    </tr>\n",
       "    <tr>\n",
       "      <th>Shingeki no Kyojin</th>\n",
       "      <td>8.540000</td>\n",
       "      <td>29584</td>\n",
       "    </tr>\n",
       "    <tr>\n",
       "      <th>Toradora!</th>\n",
       "      <td>8.450000</td>\n",
       "      <td>24283</td>\n",
       "    </tr>\n",
       "    <tr>\n",
       "      <th>Angel Beats!</th>\n",
       "      <td>8.390000</td>\n",
       "      <td>27183</td>\n",
       "    </tr>\n",
       "    <tr>\n",
       "      <th>Fullmetal Alchemist</th>\n",
       "      <td>8.330000</td>\n",
       "      <td>25032</td>\n",
       "    </tr>\n",
       "    <tr>\n",
       "      <th>Clannad</th>\n",
       "      <td>8.300000</td>\n",
       "      <td>21721</td>\n",
       "    </tr>\n",
       "  </tbody>\n",
       "</table>\n",
       "</div>"
      ],
      "text/plain": [
       "                                     rating  members\n",
       "anime_title                                         \n",
       "Fullmetal Alchemist: Brotherhood   9.260000    24574\n",
       "Code Geass: Hangyaku no Lelouch R2 8.980000    24242\n",
       "Sen to Chihiro no Kamikakushi      8.930000    22974\n",
       "Code Geass: Hangyaku no Lelouch    8.830000    27718\n",
       "Death Note                         8.710000    39340\n",
       "Shingeki no Kyojin                 8.540000    29584\n",
       "Toradora!                          8.450000    24283\n",
       "Angel Beats!                       8.390000    27183\n",
       "Fullmetal Alchemist                8.330000    25032\n",
       "Clannad                            8.300000    21721"
      ]
     },
     "execution_count": 134,
     "metadata": {},
     "output_type": "execute_result"
    }
   ],
   "source": [
    "popular_anime = anime_fulldata.groupby('anime_title').agg({'rating':'mean', 'members': 'count'})\n",
    "popular_anime = popular_anime[popular_anime['members'] > 20000]\n",
    "popular_anime = popular_anime.sort_values(by = 'rating', ascending = False)\n",
    "popular_anime.head(10)"
   ]
  },
  {
   "cell_type": "markdown",
   "metadata": {
    "id": "6rfAVMf8S4Sk"
   },
   "source": [
    "## Content based recommendation"
   ]
  },
  {
   "cell_type": "code",
   "execution_count": 135,
   "metadata": {
    "colab": {
     "base_uri": "https://localhost:8080/"
    },
    "id": "WwDBLehmWjlD",
    "outputId": "bf605872-7666-4ed8-ca55-b6fa5134521e"
   },
   "outputs": [
    {
     "name": "stdout",
     "output_type": "stream",
     "text": [
      "<class 'pandas.core.frame.DataFrame'>\n",
      "Index: 7813606 entries, Kimi no Na wa. to Yasuji no Pornorama: Yacchimae!!\n",
      "Data columns (total 8 columns):\n",
      " #   Column       Dtype  \n",
      "---  ------       -----  \n",
      " 0   anime_id     int64  \n",
      " 1   genre        object \n",
      " 2   type         object \n",
      " 3   episodes     int32  \n",
      " 4   rating       float64\n",
      " 5   members      int64  \n",
      " 6   user_id      int64  \n",
      " 7   user_rating  int64  \n",
      "dtypes: float64(1), int32(1), int64(4), object(2)\n",
      "memory usage: 506.7+ MB\n"
     ]
    }
   ],
   "source": [
    "copy_anime = anime_fulldata.copy()\n",
    "copy_anime = copy_anime.drop_duplicates()\n",
    "copy_anime.set_index('anime_title', inplace=True)\n",
    "copy_anime.info()"
   ]
  },
  {
   "cell_type": "code",
   "execution_count": 136,
   "metadata": {
    "colab": {
     "base_uri": "https://localhost:8080/"
    },
    "id": "bxA7y-sATwDL",
    "outputId": "d6d7a6f2-a424-40cf-e1cc-5ac2227a6273"
   },
   "outputs": [
    {
     "name": "stdout",
     "output_type": "stream",
     "text": [
      "<class 'pandas.core.frame.DataFrame'>\n",
      "Index: 7813606 entries, Kimi no Na wa. to Yasuji no Pornorama: Yacchimae!!\n",
      "Data columns (total 4 columns):\n",
      " #   Column    Dtype  \n",
      "---  ------    -----  \n",
      " 0   user_id   int64  \n",
      " 1   anime_id  int64  \n",
      " 2   rating    float64\n",
      " 3   genre     object \n",
      "dtypes: float64(1), int64(2), object(1)\n",
      "memory usage: 298.1+ MB\n"
     ]
    }
   ],
   "source": [
    "df = copy_anime[['user_id', 'anime_id', 'rating', 'genre']]\n",
    "df.info()"
   ]
  },
  {
   "cell_type": "code",
   "execution_count": 137,
   "metadata": {
    "colab": {
     "base_uri": "https://localhost:8080/"
    },
    "id": "zHOXWzL8UAt4",
    "outputId": "61381f85-6080-4696-c9dc-781d6939f990"
   },
   "outputs": [
    {
     "name": "stdout",
     "output_type": "stream",
     "text": [
      "<class 'pandas.core.frame.DataFrame'>\n",
      "Index: 7813606 entries, Kimi no Na wa. to Yasuji no Pornorama: Yacchimae!!\n",
      "Data columns (total 42 columns):\n",
      " #   Column               Dtype  \n",
      "---  ------               -----  \n",
      " 0   user_id              int64  \n",
      " 1   anime_id             int64  \n",
      " 2   rating               float64\n",
      " 3   genre_Action         uint8  \n",
      " 4   genre_Adventure      uint8  \n",
      " 5   genre_Cars           uint8  \n",
      " 6   genre_Comedy         uint8  \n",
      " 7   genre_Dementia       uint8  \n",
      " 8   genre_Demons         uint8  \n",
      " 9   genre_Drama          uint8  \n",
      " 10  genre_Ecchi          uint8  \n",
      " 11  genre_Fantasy        uint8  \n",
      " 12  genre_Game           uint8  \n",
      " 13  genre_Harem          uint8  \n",
      " 14  genre_Hentai         uint8  \n",
      " 15  genre_Historical     uint8  \n",
      " 16  genre_Horror         uint8  \n",
      " 17  genre_Josei          uint8  \n",
      " 18  genre_Kids           uint8  \n",
      " 19  genre_Magic          uint8  \n",
      " 20  genre_MartialArts    uint8  \n",
      " 21  genre_Mecha          uint8  \n",
      " 22  genre_Military       uint8  \n",
      " 23  genre_Music          uint8  \n",
      " 24  genre_Mystery        uint8  \n",
      " 25  genre_Parody         uint8  \n",
      " 26  genre_Police         uint8  \n",
      " 27  genre_Psychological  uint8  \n",
      " 28  genre_Romance        uint8  \n",
      " 29  genre_Samurai        uint8  \n",
      " 30  genre_School         uint8  \n",
      " 31  genre_Sci-Fi         uint8  \n",
      " 32  genre_Seinen         uint8  \n",
      " 33  genre_Shoujo         uint8  \n",
      " 34  genre_Shounen        uint8  \n",
      " 35  genre_SliceofLife    uint8  \n",
      " 36  genre_Sports         uint8  \n",
      " 37  genre_SuperPower     uint8  \n",
      " 38  genre_Supernatural   uint8  \n",
      " 39  genre_Thriller       uint8  \n",
      " 40  genre_Vampire        uint8  \n",
      " 41  genre_Yaoi           uint8  \n",
      "dtypes: float64(1), int64(2), uint8(39)\n",
      "memory usage: 529.1+ MB\n"
     ]
    }
   ],
   "source": [
    "df2 = pd.get_dummies(df)\n",
    "df2.info()"
   ]
  },
  {
   "cell_type": "code",
   "execution_count": 138,
   "metadata": {
    "id": "f9nRY-sYr5xO"
   },
   "outputs": [
    {
     "data": {
      "text/plain": [
       "NearestNeighbors(metric='cosine')"
      ]
     },
     "execution_count": 138,
     "metadata": {},
     "output_type": "execute_result"
    }
   ],
   "source": [
    "nn = NearestNeighbors(metric='cosine')\n",
    "nn.fit(df2)"
   ]
  },
  {
   "cell_type": "code",
   "execution_count": 139,
   "metadata": {
    "id": "2LQRJGwJANSZ"
   },
   "outputs": [],
   "source": [
    "def rec_by_genre(genre):\n",
    "\n",
    "    anime_id = copy_anime[copy_anime['genre'] == genre].head(1).values[0][0]\n",
    "\n",
    "    dis, ind = nn.kneighbors(X = df2[df2['anime_id']==anime_id].iloc[0].values.reshape(1, -1), n_neighbors=6)\n",
    "  \n",
    "    recommended = pd.DataFrame()\n",
    "    for i in range(1, 6):\n",
    "        new_rec = pd.DataFrame(copy_anime[ copy_anime.index == df2.index[ind[0][i]] ].iloc[0]).T\n",
    "        recommended = pd.concat([recommended, new_rec], axis=0)\n",
    "    return recommended"
   ]
  },
  {
   "cell_type": "code",
   "execution_count": 140,
   "metadata": {
    "colab": {
     "base_uri": "https://localhost:8080/",
     "height": 212
    },
    "id": "GuT1XtiN516F",
    "outputId": "f83f21cf-98f1-42a7-cc12-c36d1a13c6cc"
   },
   "outputs": [
    {
     "name": "stdout",
     "output_type": "stream",
     "text": [
      "Enter the genreAction\n"
     ]
    },
    {
     "data": {
      "text/html": [
       "<div>\n",
       "<style scoped>\n",
       "    .dataframe tbody tr th:only-of-type {\n",
       "        vertical-align: middle;\n",
       "    }\n",
       "\n",
       "    .dataframe tbody tr th {\n",
       "        vertical-align: top;\n",
       "    }\n",
       "\n",
       "    .dataframe thead th {\n",
       "        text-align: right;\n",
       "    }\n",
       "</style>\n",
       "<table border=\"1\" class=\"dataframe\">\n",
       "  <thead>\n",
       "    <tr style=\"text-align: right;\">\n",
       "      <th></th>\n",
       "      <th>anime_id</th>\n",
       "      <th>genre</th>\n",
       "      <th>type</th>\n",
       "      <th>episodes</th>\n",
       "      <th>rating</th>\n",
       "      <th>members</th>\n",
       "      <th>user_id</th>\n",
       "      <th>user_rating</th>\n",
       "    </tr>\n",
       "  </thead>\n",
       "  <tbody>\n",
       "    <tr>\n",
       "      <th>Pokemon Diamond &amp;amp; Pearl: Giratina to Sora no Hanataba Sheimi</th>\n",
       "      <td>4026</td>\n",
       "      <td>Action</td>\n",
       "      <td>Movie</td>\n",
       "      <td>1</td>\n",
       "      <td>7.100000</td>\n",
       "      <td>32654</td>\n",
       "      <td>3</td>\n",
       "      <td>7</td>\n",
       "    </tr>\n",
       "    <tr>\n",
       "      <th>Sekirei</th>\n",
       "      <td>4063</td>\n",
       "      <td>Action</td>\n",
       "      <td>TV</td>\n",
       "      <td>12</td>\n",
       "      <td>7.400000</td>\n",
       "      <td>182713</td>\n",
       "      <td>1</td>\n",
       "      <td>-1</td>\n",
       "    </tr>\n",
       "    <tr>\n",
       "      <th>Afro Samurai: Resurrection</th>\n",
       "      <td>4970</td>\n",
       "      <td>Action</td>\n",
       "      <td>Movie</td>\n",
       "      <td>1</td>\n",
       "      <td>7.460000</td>\n",
       "      <td>51064</td>\n",
       "      <td>4</td>\n",
       "      <td>-1</td>\n",
       "    </tr>\n",
       "    <tr>\n",
       "      <th>Ookami to Koushinryou II</th>\n",
       "      <td>5341</td>\n",
       "      <td>Adventure</td>\n",
       "      <td>TV</td>\n",
       "      <td>12</td>\n",
       "      <td>8.460000</td>\n",
       "      <td>210491</td>\n",
       "      <td>4</td>\n",
       "      <td>-1</td>\n",
       "    </tr>\n",
       "    <tr>\n",
       "      <th>Sekirei</th>\n",
       "      <td>4063</td>\n",
       "      <td>Action</td>\n",
       "      <td>TV</td>\n",
       "      <td>12</td>\n",
       "      <td>7.400000</td>\n",
       "      <td>182713</td>\n",
       "      <td>1</td>\n",
       "      <td>-1</td>\n",
       "    </tr>\n",
       "  </tbody>\n",
       "</table>\n",
       "</div>"
      ],
      "text/plain": [
       "                                                   anime_id      genre   type  \\\n",
       "Pokemon Diamond &amp; Pearl: Giratina to Sora n...     4026     Action  Movie   \n",
       "Sekirei                                                4063     Action     TV   \n",
       "Afro Samurai: Resurrection                             4970     Action  Movie   \n",
       "Ookami to Koushinryou II                               5341  Adventure     TV   \n",
       "Sekirei                                                4063     Action     TV   \n",
       "\n",
       "                                                   episodes   rating members  \\\n",
       "Pokemon Diamond &amp; Pearl: Giratina to Sora n...        1 7.100000   32654   \n",
       "Sekirei                                                  12 7.400000  182713   \n",
       "Afro Samurai: Resurrection                                1 7.460000   51064   \n",
       "Ookami to Koushinryou II                                 12 8.460000  210491   \n",
       "Sekirei                                                  12 7.400000  182713   \n",
       "\n",
       "                                                   user_id user_rating  \n",
       "Pokemon Diamond &amp; Pearl: Giratina to Sora n...       3           7  \n",
       "Sekirei                                                  1          -1  \n",
       "Afro Samurai: Resurrection                               4          -1  \n",
       "Ookami to Koushinryou II                                 4          -1  \n",
       "Sekirei                                                  1          -1  "
      ]
     },
     "execution_count": 140,
     "metadata": {},
     "output_type": "execute_result"
    }
   ],
   "source": [
    "genre = input('Enter the genre')\n",
    "recommendtions = rec_by_genre(genre)\n",
    "recommendtions"
   ]
  },
  {
   "cell_type": "markdown",
   "metadata": {
    "id": "vAdn-bm8qPbj"
   },
   "source": [
    "## User-rating based hybrid recommendation"
   ]
  },
  {
   "cell_type": "code",
   "execution_count": 141,
   "metadata": {
    "colab": {
     "base_uri": "https://localhost:8080/",
     "height": 195
    },
    "id": "y_owMStEwRtH",
    "outputId": "ec128d91-3653-4207-aced-bd2bf54953a2"
   },
   "outputs": [
    {
     "data": {
      "text/html": [
       "<div>\n",
       "<style scoped>\n",
       "    .dataframe tbody tr th:only-of-type {\n",
       "        vertical-align: middle;\n",
       "    }\n",
       "\n",
       "    .dataframe tbody tr th {\n",
       "        vertical-align: top;\n",
       "    }\n",
       "\n",
       "    .dataframe thead th {\n",
       "        text-align: right;\n",
       "    }\n",
       "</style>\n",
       "<table border=\"1\" class=\"dataframe\">\n",
       "  <thead>\n",
       "    <tr style=\"text-align: right;\">\n",
       "      <th></th>\n",
       "      <th>anime_id</th>\n",
       "      <th>anime_title</th>\n",
       "      <th>genre</th>\n",
       "      <th>type</th>\n",
       "      <th>episodes</th>\n",
       "      <th>rating</th>\n",
       "      <th>members</th>\n",
       "      <th>user_id</th>\n",
       "      <th>user_rating</th>\n",
       "    </tr>\n",
       "  </thead>\n",
       "  <tbody>\n",
       "    <tr>\n",
       "      <th>1077404</th>\n",
       "      <td>6746</td>\n",
       "      <td>Durarara!!</td>\n",
       "      <td>Action</td>\n",
       "      <td>TV</td>\n",
       "      <td>24</td>\n",
       "      <td>8.380000</td>\n",
       "      <td>556431</td>\n",
       "      <td>100</td>\n",
       "      <td>10</td>\n",
       "    </tr>\n",
       "    <tr>\n",
       "      <th>2690976</th>\n",
       "      <td>9919</td>\n",
       "      <td>Ao no Exorcist</td>\n",
       "      <td>Action</td>\n",
       "      <td>TV</td>\n",
       "      <td>25</td>\n",
       "      <td>7.920000</td>\n",
       "      <td>583823</td>\n",
       "      <td>100</td>\n",
       "      <td>10</td>\n",
       "    </tr>\n",
       "    <tr>\n",
       "      <th>3160122</th>\n",
       "      <td>11757</td>\n",
       "      <td>Sword Art Online</td>\n",
       "      <td>Action</td>\n",
       "      <td>TV</td>\n",
       "      <td>25</td>\n",
       "      <td>7.830000</td>\n",
       "      <td>893100</td>\n",
       "      <td>100</td>\n",
       "      <td>10</td>\n",
       "    </tr>\n",
       "    <tr>\n",
       "      <th>3714771</th>\n",
       "      <td>1281</td>\n",
       "      <td>Gakkou no Kaidan</td>\n",
       "      <td>Horror</td>\n",
       "      <td>TV</td>\n",
       "      <td>19</td>\n",
       "      <td>7.710000</td>\n",
       "      <td>42033</td>\n",
       "      <td>100</td>\n",
       "      <td>10</td>\n",
       "    </tr>\n",
       "    <tr>\n",
       "      <th>4941954</th>\n",
       "      <td>8074</td>\n",
       "      <td>Highschool of the Dead</td>\n",
       "      <td>Action</td>\n",
       "      <td>TV</td>\n",
       "      <td>12</td>\n",
       "      <td>7.460000</td>\n",
       "      <td>535892</td>\n",
       "      <td>100</td>\n",
       "      <td>9</td>\n",
       "    </tr>\n",
       "  </tbody>\n",
       "</table>\n",
       "</div>"
      ],
      "text/plain": [
       "         anime_id             anime_title   genre type  episodes   rating  \\\n",
       "1077404      6746              Durarara!!  Action   TV        24 8.380000   \n",
       "2690976      9919          Ao no Exorcist  Action   TV        25 7.920000   \n",
       "3160122     11757        Sword Art Online  Action   TV        25 7.830000   \n",
       "3714771      1281        Gakkou no Kaidan  Horror   TV        19 7.710000   \n",
       "4941954      8074  Highschool of the Dead  Action   TV        12 7.460000   \n",
       "\n",
       "         members  user_id  user_rating  \n",
       "1077404   556431      100           10  \n",
       "2690976   583823      100           10  \n",
       "3160122   893100      100           10  \n",
       "3714771    42033      100           10  \n",
       "4941954   535892      100            9  "
      ]
     },
     "execution_count": 141,
     "metadata": {},
     "output_type": "execute_result"
    }
   ],
   "source": [
    "copy_anime2 = anime_fulldata.copy()\n",
    "user_details = copy_anime2[copy_anime2['user_id']==100]\n",
    "user_details"
   ]
  },
  {
   "cell_type": "code",
   "execution_count": 142,
   "metadata": {
    "colab": {
     "base_uri": "https://localhost:8080/",
     "height": 35
    },
    "id": "Bky_rPvYwlVI",
    "outputId": "e3ddd126-e467-4475-c637-36b232d7391e"
   },
   "outputs": [
    {
     "data": {
      "text/plain": [
       "'Action'"
      ]
     },
     "execution_count": 142,
     "metadata": {},
     "output_type": "execute_result"
    }
   ],
   "source": [
    "# get most occaring genre only\n",
    "user_details = user_details[user_details['genre']==user_details['genre'].value_counts().index[0]]\n",
    "#find the maximum of rating\n",
    "user_max_rating = max(user_details.user_rating)\n",
    "\n",
    "#fetching the max rated genre by the user\n",
    "for i in user_details.index:\n",
    "    user_ratings = user_details[user_details.index == i]['user_rating'].values[0]\n",
    "    if user_ratings == user_max_rating:\n",
    "        index = (user_details[user_details.index == i]['user_rating'] == user_max_rating).index[0]\n",
    "\n",
    "liked_genre = user_details[user_details.index==index].values[0][2]\n",
    "liked_genre"
   ]
  },
  {
   "cell_type": "code",
   "execution_count": 143,
   "metadata": {
    "colab": {
     "base_uri": "https://localhost:8080/",
     "height": 195
    },
    "id": "wTZ6Vf3gylrO",
    "outputId": "80c321b6-fafc-4012-c7f3-fca0ddde8896"
   },
   "outputs": [
    {
     "data": {
      "text/html": [
       "<div>\n",
       "<style scoped>\n",
       "    .dataframe tbody tr th:only-of-type {\n",
       "        vertical-align: middle;\n",
       "    }\n",
       "\n",
       "    .dataframe tbody tr th {\n",
       "        vertical-align: top;\n",
       "    }\n",
       "\n",
       "    .dataframe thead th {\n",
       "        text-align: right;\n",
       "    }\n",
       "</style>\n",
       "<table border=\"1\" class=\"dataframe\">\n",
       "  <thead>\n",
       "    <tr style=\"text-align: right;\">\n",
       "      <th></th>\n",
       "      <th>anime_id</th>\n",
       "      <th>anime_title</th>\n",
       "      <th>genre</th>\n",
       "      <th>type</th>\n",
       "      <th>episodes</th>\n",
       "      <th>rating</th>\n",
       "      <th>members</th>\n",
       "      <th>user_id</th>\n",
       "      <th>user_rating</th>\n",
       "    </tr>\n",
       "  </thead>\n",
       "  <tbody>\n",
       "    <tr>\n",
       "      <th>2199</th>\n",
       "      <td>5114</td>\n",
       "      <td>Fullmetal Alchemist: Brotherhood</td>\n",
       "      <td>Action</td>\n",
       "      <td>TV</td>\n",
       "      <td>64</td>\n",
       "      <td>9.260000</td>\n",
       "      <td>793665</td>\n",
       "      <td>3</td>\n",
       "      <td>10</td>\n",
       "    </tr>\n",
       "    <tr>\n",
       "      <th>27688</th>\n",
       "      <td>28977</td>\n",
       "      <td>Gintama°</td>\n",
       "      <td>Action</td>\n",
       "      <td>TV</td>\n",
       "      <td>51</td>\n",
       "      <td>9.250000</td>\n",
       "      <td>114262</td>\n",
       "      <td>45659</td>\n",
       "      <td>9</td>\n",
       "    </tr>\n",
       "    <tr>\n",
       "      <th>49883</th>\n",
       "      <td>9969</td>\n",
       "      <td>Gintama&amp;#039;</td>\n",
       "      <td>Action</td>\n",
       "      <td>TV</td>\n",
       "      <td>51</td>\n",
       "      <td>9.160000</td>\n",
       "      <td>151266</td>\n",
       "      <td>45779</td>\n",
       "      <td>10</td>\n",
       "    </tr>\n",
       "    <tr>\n",
       "      <th>58066</th>\n",
       "      <td>11061</td>\n",
       "      <td>Hunter x Hunter (2011)</td>\n",
       "      <td>Action</td>\n",
       "      <td>TV</td>\n",
       "      <td>148</td>\n",
       "      <td>9.130000</td>\n",
       "      <td>425855</td>\n",
       "      <td>47113</td>\n",
       "      <td>-1</td>\n",
       "    </tr>\n",
       "    <tr>\n",
       "      <th>65196</th>\n",
       "      <td>15417</td>\n",
       "      <td>Gintama&amp;#039;: Enchousen</td>\n",
       "      <td>Action</td>\n",
       "      <td>TV</td>\n",
       "      <td>13</td>\n",
       "      <td>9.110000</td>\n",
       "      <td>81109</td>\n",
       "      <td>24729</td>\n",
       "      <td>9</td>\n",
       "    </tr>\n",
       "  </tbody>\n",
       "</table>\n",
       "</div>"
      ],
      "text/plain": [
       "       anime_id                       anime_title   genre type  episodes  \\\n",
       "2199       5114  Fullmetal Alchemist: Brotherhood  Action   TV        64   \n",
       "27688     28977                          Gintama°  Action   TV        51   \n",
       "49883      9969                     Gintama&#039;  Action   TV        51   \n",
       "58066     11061            Hunter x Hunter (2011)  Action   TV       148   \n",
       "65196     15417          Gintama&#039;: Enchousen  Action   TV        13   \n",
       "\n",
       "        rating  members  user_id  user_rating  \n",
       "2199  9.260000   793665        3           10  \n",
       "27688 9.250000   114262    45659            9  \n",
       "49883 9.160000   151266    45779           10  \n",
       "58066 9.130000   425855    47113           -1  \n",
       "65196 9.110000    81109    24729            9  "
      ]
     },
     "execution_count": 143,
     "metadata": {},
     "output_type": "execute_result"
    }
   ],
   "source": [
    "#recommendation based on highly rated animes by the genre that is max rated by the user\n",
    "rec = copy_anime2[copy_anime2['genre'] == liked_genre].sort_values('rating', ascending=False)\n",
    "\n",
    "#removing the anime's already watched by the user\n",
    "rec.drop_duplicates('anime_id', inplace=True)\n",
    "for i in user_details.index:\n",
    "    if i in rec.index:\n",
    "        rec.drop(i, inplace=True)\n",
    "rec.head(5)"
   ]
  },
  {
   "cell_type": "markdown",
   "metadata": {
    "id": "x2-biBT_L7hK"
   },
   "source": [
    "## Collaborative filtering"
   ]
  },
  {
   "cell_type": "code",
   "execution_count": 144,
   "metadata": {},
   "outputs": [
    {
     "data": {
      "text/html": [
       "<div>\n",
       "<style scoped>\n",
       "    .dataframe tbody tr th:only-of-type {\n",
       "        vertical-align: middle;\n",
       "    }\n",
       "\n",
       "    .dataframe tbody tr th {\n",
       "        vertical-align: top;\n",
       "    }\n",
       "\n",
       "    .dataframe thead th {\n",
       "        text-align: right;\n",
       "    }\n",
       "</style>\n",
       "<table border=\"1\" class=\"dataframe\">\n",
       "  <thead>\n",
       "    <tr style=\"text-align: right;\">\n",
       "      <th></th>\n",
       "      <th>anime_id</th>\n",
       "      <th>anime_title</th>\n",
       "      <th>genre</th>\n",
       "      <th>type</th>\n",
       "      <th>episodes</th>\n",
       "      <th>rating</th>\n",
       "      <th>members</th>\n",
       "      <th>user_id</th>\n",
       "      <th>user_rating</th>\n",
       "    </tr>\n",
       "  </thead>\n",
       "  <tbody>\n",
       "    <tr>\n",
       "      <th>0</th>\n",
       "      <td>9253</td>\n",
       "      <td>Steins;Gate</td>\n",
       "      <td>Sci-Fi</td>\n",
       "      <td>TV</td>\n",
       "      <td>24</td>\n",
       "      <td>9.170000</td>\n",
       "      <td>673572</td>\n",
       "      <td>5</td>\n",
       "      <td>9</td>\n",
       "    </tr>\n",
       "    <tr>\n",
       "      <th>1</th>\n",
       "      <td>9253</td>\n",
       "      <td>Steins;Gate</td>\n",
       "      <td>Sci-Fi</td>\n",
       "      <td>TV</td>\n",
       "      <td>24</td>\n",
       "      <td>9.170000</td>\n",
       "      <td>673572</td>\n",
       "      <td>10</td>\n",
       "      <td>-1</td>\n",
       "    </tr>\n",
       "    <tr>\n",
       "      <th>2</th>\n",
       "      <td>9253</td>\n",
       "      <td>Steins;Gate</td>\n",
       "      <td>Sci-Fi</td>\n",
       "      <td>TV</td>\n",
       "      <td>24</td>\n",
       "      <td>9.170000</td>\n",
       "      <td>673572</td>\n",
       "      <td>11</td>\n",
       "      <td>7</td>\n",
       "    </tr>\n",
       "    <tr>\n",
       "      <th>3</th>\n",
       "      <td>9253</td>\n",
       "      <td>Steins;Gate</td>\n",
       "      <td>Sci-Fi</td>\n",
       "      <td>TV</td>\n",
       "      <td>24</td>\n",
       "      <td>9.170000</td>\n",
       "      <td>673572</td>\n",
       "      <td>12</td>\n",
       "      <td>10</td>\n",
       "    </tr>\n",
       "    <tr>\n",
       "      <th>4</th>\n",
       "      <td>9253</td>\n",
       "      <td>Steins;Gate</td>\n",
       "      <td>Sci-Fi</td>\n",
       "      <td>TV</td>\n",
       "      <td>24</td>\n",
       "      <td>9.170000</td>\n",
       "      <td>673572</td>\n",
       "      <td>13</td>\n",
       "      <td>-1</td>\n",
       "    </tr>\n",
       "  </tbody>\n",
       "</table>\n",
       "</div>"
      ],
      "text/plain": [
       "  anime_id  anime_title   genre type  episodes   rating  members user_id  \\\n",
       "0     9253  Steins;Gate  Sci-Fi   TV        24 9.170000   673572       5   \n",
       "1     9253  Steins;Gate  Sci-Fi   TV        24 9.170000   673572      10   \n",
       "2     9253  Steins;Gate  Sci-Fi   TV        24 9.170000   673572      11   \n",
       "3     9253  Steins;Gate  Sci-Fi   TV        24 9.170000   673572      12   \n",
       "4     9253  Steins;Gate  Sci-Fi   TV        24 9.170000   673572      13   \n",
       "\n",
       "   user_rating  \n",
       "0            9  \n",
       "1           -1  \n",
       "2            7  \n",
       "3           10  \n",
       "4           -1  "
      ]
     },
     "execution_count": 144,
     "metadata": {},
     "output_type": "execute_result"
    }
   ],
   "source": [
    "anime_fulldata_new.head()"
   ]
  },
  {
   "cell_type": "code",
   "execution_count": 145,
   "metadata": {
    "id": "Tyy8G4v62ajw"
   },
   "outputs": [],
   "source": [
    "#df = pd.read_csv('/content/drive/MyDrive/Colab Notebooks/ML-3 Project/5genre.csv')\n",
    "reader = Reader(rating_scale = (-1, 10))\n",
    "rating_data = Dataset.load_from_df(anime_fulldata_new[['user_id', 'anime_id', 'user_rating']], reader)"
   ]
  },
  {
   "cell_type": "code",
   "execution_count": 146,
   "metadata": {
    "colab": {
     "base_uri": "https://localhost:8080/",
     "height": 195
    },
    "id": "X2iFKyaNML6w",
    "outputId": "9fbb4c32-ec1d-4707-8bfd-b6b890530e21"
   },
   "outputs": [
    {
     "data": {
      "text/html": [
       "<div>\n",
       "<style scoped>\n",
       "    .dataframe tbody tr th:only-of-type {\n",
       "        vertical-align: middle;\n",
       "    }\n",
       "\n",
       "    .dataframe tbody tr th {\n",
       "        vertical-align: top;\n",
       "    }\n",
       "\n",
       "    .dataframe thead th {\n",
       "        text-align: right;\n",
       "    }\n",
       "</style>\n",
       "<table border=\"1\" class=\"dataframe\">\n",
       "  <thead>\n",
       "    <tr style=\"text-align: right;\">\n",
       "      <th></th>\n",
       "      <th>uid</th>\n",
       "      <th>iid</th>\n",
       "      <th>r_ui</th>\n",
       "      <th>est</th>\n",
       "      <th>details</th>\n",
       "    </tr>\n",
       "  </thead>\n",
       "  <tbody>\n",
       "    <tr>\n",
       "      <th>0</th>\n",
       "      <td>26291</td>\n",
       "      <td>9253</td>\n",
       "      <td>4</td>\n",
       "      <td>7.412172</td>\n",
       "      <td>{'was_impossible': False}</td>\n",
       "    </tr>\n",
       "    <tr>\n",
       "      <th>9</th>\n",
       "      <td>26291</td>\n",
       "      <td>7465</td>\n",
       "      <td>4</td>\n",
       "      <td>7.340312</td>\n",
       "      <td>{'was_impossible': False}</td>\n",
       "    </tr>\n",
       "    <tr>\n",
       "      <th>24</th>\n",
       "      <td>26291</td>\n",
       "      <td>3369</td>\n",
       "      <td>4</td>\n",
       "      <td>7.231417</td>\n",
       "      <td>{'was_impossible': False}</td>\n",
       "    </tr>\n",
       "    <tr>\n",
       "      <th>64</th>\n",
       "      <td>26291</td>\n",
       "      <td>5895</td>\n",
       "      <td>4</td>\n",
       "      <td>7.147063</td>\n",
       "      <td>{'was_impossible': False}</td>\n",
       "    </tr>\n",
       "    <tr>\n",
       "      <th>13</th>\n",
       "      <td>26291</td>\n",
       "      <td>645</td>\n",
       "      <td>4</td>\n",
       "      <td>7.127227</td>\n",
       "      <td>{'was_impossible': False}</td>\n",
       "    </tr>\n",
       "  </tbody>\n",
       "</table>\n",
       "</div>"
      ],
      "text/plain": [
       "      uid   iid  r_ui      est                    details\n",
       "0   26291  9253     4 7.412172  {'was_impossible': False}\n",
       "9   26291  7465     4 7.340312  {'was_impossible': False}\n",
       "24  26291  3369     4 7.231417  {'was_impossible': False}\n",
       "64  26291  5895     4 7.147063  {'was_impossible': False}\n",
       "13  26291   645     4 7.127227  {'was_impossible': False}"
      ]
     },
     "execution_count": 146,
     "metadata": {},
     "output_type": "execute_result"
    }
   ],
   "source": [
    "item_id = anime_fulldata_new['anime_id'].unique()\n",
    "test_set = [[26291, iid, 4] for iid in item_id]\n",
    "\n",
    "trainsetfull = rating_data.build_full_trainset()\n",
    "\n",
    "algo = SVDpp(random_state = 4)\n",
    "algo.fit(trainsetfull)\n",
    "\n",
    "pred = algo.test(test_set)\n",
    "rec = pd.DataFrame(pred).sort_values(by = 'est', ascending = False)\n",
    "rec.head()"
   ]
  },
  {
   "cell_type": "code",
   "execution_count": 147,
   "metadata": {
    "colab": {
     "base_uri": "https://localhost:8080/"
    },
    "id": "FvAauS4Ygu7o",
    "outputId": "5b0e6597-34ff-4f7f-d5d7-a01fe7bb69d1"
   },
   "outputs": [
    {
     "name": "stdout",
     "output_type": "stream",
     "text": [
      "Recommended anime for user id: 26297 are\n",
      "1. \u001b[1mSteins;Gate\u001b[0m of genre Sci-Fi with estimation of 7.41\n",
      "2. \u001b[1mEve no Jikan (Movie)\u001b[0m of genre Sci-Fi with estimation of 7.34\n",
      "3. \u001b[1mShoubushi Densetsu Tetsuya\u001b[0m of genre Game with estimation of 7.23\n",
      "4. \u001b[1mTistou Midori no Oyayubi\u001b[0m of genre Historical with estimation of 7.15\n",
      "5. \u001b[1mHikaru no Go: Journey to the North Star Cup\u001b[0m of genre Game with estimation of 7.13\n"
     ]
    }
   ],
   "source": [
    "print('Recommended anime for user id: 26297 are')\n",
    "for i in range(5):\n",
    "    anime_id = rec.iloc[i]['iid']\n",
    "    title = anime_fulldata_new[anime_fulldata_new['anime_id'] == anime_id].iloc[0]['anime_title']\n",
    "    genre = anime_fulldata_new[anime_fulldata_new['anime_id'] == anime_id].iloc[0]['genre']\n",
    "    est = str(round(rec.iloc[i]['est'], 2))\n",
    "\n",
    "    print(str(i+1)+'.','\\033[1m'+ title+'\\033[0m', 'of genre', genre, 'with estimation of', est)"
   ]
  },
  {
   "cell_type": "markdown",
   "metadata": {},
   "source": [
    "# Association"
   ]
  },
  {
   "cell_type": "code",
   "execution_count": 148,
   "metadata": {},
   "outputs": [
    {
     "data": {
      "text/html": [
       "<div>\n",
       "<style scoped>\n",
       "    .dataframe tbody tr th:only-of-type {\n",
       "        vertical-align: middle;\n",
       "    }\n",
       "\n",
       "    .dataframe tbody tr th {\n",
       "        vertical-align: top;\n",
       "    }\n",
       "\n",
       "    .dataframe thead th {\n",
       "        text-align: right;\n",
       "    }\n",
       "</style>\n",
       "<table border=\"1\" class=\"dataframe\">\n",
       "  <thead>\n",
       "    <tr style=\"text-align: right;\">\n",
       "      <th></th>\n",
       "      <th>anime_id</th>\n",
       "      <th>anime_title</th>\n",
       "      <th>genre</th>\n",
       "      <th>type</th>\n",
       "      <th>episodes</th>\n",
       "      <th>rating</th>\n",
       "      <th>members</th>\n",
       "      <th>user_id</th>\n",
       "      <th>user_rating</th>\n",
       "    </tr>\n",
       "  </thead>\n",
       "  <tbody>\n",
       "    <tr>\n",
       "      <th>705329</th>\n",
       "      <td>205</td>\n",
       "      <td>Samurai Champloo</td>\n",
       "      <td>Action,Adventure,Comedy,Historical,Samurai,Sho...</td>\n",
       "      <td>TV</td>\n",
       "      <td>26</td>\n",
       "      <td>8.500000</td>\n",
       "      <td>390076</td>\n",
       "      <td>24920</td>\n",
       "      <td>10</td>\n",
       "    </tr>\n",
       "    <tr>\n",
       "      <th>1607582</th>\n",
       "      <td>6702</td>\n",
       "      <td>Fairy Tail</td>\n",
       "      <td>Action,Adventure,Comedy,Fantasy,Magic,Shounen</td>\n",
       "      <td>TV</td>\n",
       "      <td>175</td>\n",
       "      <td>8.220000</td>\n",
       "      <td>584590</td>\n",
       "      <td>2912</td>\n",
       "      <td>9</td>\n",
       "    </tr>\n",
       "    <tr>\n",
       "      <th>752146</th>\n",
       "      <td>523</td>\n",
       "      <td>Tonari no Totoro</td>\n",
       "      <td>Adventure,Comedy,Supernatural</td>\n",
       "      <td>Movie</td>\n",
       "      <td>1</td>\n",
       "      <td>8.480000</td>\n",
       "      <td>271484</td>\n",
       "      <td>17647</td>\n",
       "      <td>7</td>\n",
       "    </tr>\n",
       "    <tr>\n",
       "      <th>2359082</th>\n",
       "      <td>30831</td>\n",
       "      <td>Kono Subarashii Sekai ni Shukufuku wo!</td>\n",
       "      <td>Adventure,Comedy,Fantasy,Supernatural</td>\n",
       "      <td>TV</td>\n",
       "      <td>10</td>\n",
       "      <td>8.030000</td>\n",
       "      <td>244877</td>\n",
       "      <td>69254</td>\n",
       "      <td>7</td>\n",
       "    </tr>\n",
       "    <tr>\n",
       "      <th>6536135</th>\n",
       "      <td>11703</td>\n",
       "      <td>Code:Breaker</td>\n",
       "      <td>Action,Comedy,School,Shounen,SuperPower,Supern...</td>\n",
       "      <td>TV</td>\n",
       "      <td>13</td>\n",
       "      <td>7.030000</td>\n",
       "      <td>135255</td>\n",
       "      <td>61508</td>\n",
       "      <td>4</td>\n",
       "    </tr>\n",
       "  </tbody>\n",
       "</table>\n",
       "</div>"
      ],
      "text/plain": [
       "         anime_id                             anime_title  \\\n",
       "705329        205                        Samurai Champloo   \n",
       "1607582      6702                              Fairy Tail   \n",
       "752146        523                        Tonari no Totoro   \n",
       "2359082     30831  Kono Subarashii Sekai ni Shukufuku wo!   \n",
       "6536135     11703                            Code:Breaker   \n",
       "\n",
       "                                                     genre   type  episodes  \\\n",
       "705329   Action,Adventure,Comedy,Historical,Samurai,Sho...     TV        26   \n",
       "1607582      Action,Adventure,Comedy,Fantasy,Magic,Shounen     TV       175   \n",
       "752146                       Adventure,Comedy,Supernatural  Movie         1   \n",
       "2359082              Adventure,Comedy,Fantasy,Supernatural     TV        10   \n",
       "6536135  Action,Comedy,School,Shounen,SuperPower,Supern...     TV        13   \n",
       "\n",
       "          rating  members  user_id  user_rating  \n",
       "705329  8.500000   390076    24920           10  \n",
       "1607582 8.220000   584590     2912            9  \n",
       "752146  8.480000   271484    17647            7  \n",
       "2359082 8.030000   244877    69254            7  \n",
       "6536135 7.030000   135255    61508            4  "
      ]
     },
     "execution_count": 148,
     "metadata": {},
     "output_type": "execute_result"
    }
   ],
   "source": [
    "anime_fulldata=pd.merge(anime,rating,on='anime_id',suffixes= ['', '_user'])\n",
    "anime_fulldata = anime_fulldata.rename(columns={'name': 'anime_title', 'rating_user': 'user_rating'})\n",
    "anime_fulldata_sample=anime_fulldata.sample(frac=0.1,random_state=4)\n",
    "anime_fulldata_sample.head()"
   ]
  },
  {
   "cell_type": "code",
   "execution_count": 149,
   "metadata": {},
   "outputs": [],
   "source": [
    "\n",
    "anime_fulldata_sample=anime_fulldata_sample.dropna()\n",
    "records=anime_fulldata_sample['genre'].apply(lambda x:x.split(','))\n",
    "\n",
    "records=[i+np.zeros(14-len(i),dtype=int).tolist() for i in records]"
   ]
  },
  {
   "cell_type": "code",
   "execution_count": 150,
   "metadata": {},
   "outputs": [],
   "source": [
    "genre_list = pd.DataFrame(records).replace({0:\"None\"}).values.tolist()"
   ]
  },
  {
   "cell_type": "code",
   "execution_count": 151,
   "metadata": {},
   "outputs": [],
   "source": [
    "te = TransactionEncoder()\n",
    "te_ary = te.fit(genre_list).transform(genre_list)\n",
    "df1 = pd.DataFrame(te_ary, columns=te.columns_)"
   ]
  },
  {
   "cell_type": "code",
   "execution_count": 152,
   "metadata": {},
   "outputs": [
    {
     "data": {
      "text/html": [
       "<div>\n",
       "<style scoped>\n",
       "    .dataframe tbody tr th:only-of-type {\n",
       "        vertical-align: middle;\n",
       "    }\n",
       "\n",
       "    .dataframe tbody tr th {\n",
       "        vertical-align: top;\n",
       "    }\n",
       "\n",
       "    .dataframe thead th {\n",
       "        text-align: right;\n",
       "    }\n",
       "</style>\n",
       "<table border=\"1\" class=\"dataframe\">\n",
       "  <thead>\n",
       "    <tr style=\"text-align: right;\">\n",
       "      <th></th>\n",
       "      <th>Action</th>\n",
       "      <th>Adventure</th>\n",
       "      <th>Cars</th>\n",
       "      <th>Comedy</th>\n",
       "      <th>Dementia</th>\n",
       "      <th>Demons</th>\n",
       "      <th>Drama</th>\n",
       "      <th>Ecchi</th>\n",
       "      <th>Fantasy</th>\n",
       "      <th>Game</th>\n",
       "      <th>...</th>\n",
       "      <th>ShounenAi</th>\n",
       "      <th>SliceofLife</th>\n",
       "      <th>Space</th>\n",
       "      <th>Sports</th>\n",
       "      <th>SuperPower</th>\n",
       "      <th>Supernatural</th>\n",
       "      <th>Thriller</th>\n",
       "      <th>Vampire</th>\n",
       "      <th>Yaoi</th>\n",
       "      <th>Yuri</th>\n",
       "    </tr>\n",
       "  </thead>\n",
       "  <tbody>\n",
       "    <tr>\n",
       "      <th>0</th>\n",
       "      <td>1</td>\n",
       "      <td>1</td>\n",
       "      <td>0</td>\n",
       "      <td>1</td>\n",
       "      <td>0</td>\n",
       "      <td>0</td>\n",
       "      <td>0</td>\n",
       "      <td>0</td>\n",
       "      <td>0</td>\n",
       "      <td>0</td>\n",
       "      <td>...</td>\n",
       "      <td>0</td>\n",
       "      <td>0</td>\n",
       "      <td>0</td>\n",
       "      <td>0</td>\n",
       "      <td>0</td>\n",
       "      <td>0</td>\n",
       "      <td>0</td>\n",
       "      <td>0</td>\n",
       "      <td>0</td>\n",
       "      <td>0</td>\n",
       "    </tr>\n",
       "    <tr>\n",
       "      <th>1</th>\n",
       "      <td>1</td>\n",
       "      <td>1</td>\n",
       "      <td>0</td>\n",
       "      <td>1</td>\n",
       "      <td>0</td>\n",
       "      <td>0</td>\n",
       "      <td>0</td>\n",
       "      <td>0</td>\n",
       "      <td>1</td>\n",
       "      <td>0</td>\n",
       "      <td>...</td>\n",
       "      <td>0</td>\n",
       "      <td>0</td>\n",
       "      <td>0</td>\n",
       "      <td>0</td>\n",
       "      <td>0</td>\n",
       "      <td>0</td>\n",
       "      <td>0</td>\n",
       "      <td>0</td>\n",
       "      <td>0</td>\n",
       "      <td>0</td>\n",
       "    </tr>\n",
       "    <tr>\n",
       "      <th>2</th>\n",
       "      <td>0</td>\n",
       "      <td>1</td>\n",
       "      <td>0</td>\n",
       "      <td>1</td>\n",
       "      <td>0</td>\n",
       "      <td>0</td>\n",
       "      <td>0</td>\n",
       "      <td>0</td>\n",
       "      <td>0</td>\n",
       "      <td>0</td>\n",
       "      <td>...</td>\n",
       "      <td>0</td>\n",
       "      <td>0</td>\n",
       "      <td>0</td>\n",
       "      <td>0</td>\n",
       "      <td>0</td>\n",
       "      <td>1</td>\n",
       "      <td>0</td>\n",
       "      <td>0</td>\n",
       "      <td>0</td>\n",
       "      <td>0</td>\n",
       "    </tr>\n",
       "    <tr>\n",
       "      <th>3</th>\n",
       "      <td>0</td>\n",
       "      <td>1</td>\n",
       "      <td>0</td>\n",
       "      <td>1</td>\n",
       "      <td>0</td>\n",
       "      <td>0</td>\n",
       "      <td>0</td>\n",
       "      <td>0</td>\n",
       "      <td>1</td>\n",
       "      <td>0</td>\n",
       "      <td>...</td>\n",
       "      <td>0</td>\n",
       "      <td>0</td>\n",
       "      <td>0</td>\n",
       "      <td>0</td>\n",
       "      <td>0</td>\n",
       "      <td>1</td>\n",
       "      <td>0</td>\n",
       "      <td>0</td>\n",
       "      <td>0</td>\n",
       "      <td>0</td>\n",
       "    </tr>\n",
       "    <tr>\n",
       "      <th>4</th>\n",
       "      <td>1</td>\n",
       "      <td>0</td>\n",
       "      <td>0</td>\n",
       "      <td>1</td>\n",
       "      <td>0</td>\n",
       "      <td>0</td>\n",
       "      <td>0</td>\n",
       "      <td>0</td>\n",
       "      <td>0</td>\n",
       "      <td>0</td>\n",
       "      <td>...</td>\n",
       "      <td>0</td>\n",
       "      <td>0</td>\n",
       "      <td>0</td>\n",
       "      <td>0</td>\n",
       "      <td>1</td>\n",
       "      <td>1</td>\n",
       "      <td>0</td>\n",
       "      <td>0</td>\n",
       "      <td>0</td>\n",
       "      <td>0</td>\n",
       "    </tr>\n",
       "  </tbody>\n",
       "</table>\n",
       "<p>5 rows × 44 columns</p>\n",
       "</div>"
      ],
      "text/plain": [
       "   Action  Adventure  Cars  Comedy  Dementia  Demons  Drama  Ecchi  Fantasy  \\\n",
       "0       1          1     0       1         0       0      0      0        0   \n",
       "1       1          1     0       1         0       0      0      0        1   \n",
       "2       0          1     0       1         0       0      0      0        0   \n",
       "3       0          1     0       1         0       0      0      0        1   \n",
       "4       1          0     0       1         0       0      0      0        0   \n",
       "\n",
       "   Game  ...  ShounenAi  SliceofLife  Space  Sports  SuperPower  Supernatural  \\\n",
       "0     0  ...          0            0      0       0           0             0   \n",
       "1     0  ...          0            0      0       0           0             0   \n",
       "2     0  ...          0            0      0       0           0             1   \n",
       "3     0  ...          0            0      0       0           0             1   \n",
       "4     0  ...          0            0      0       0           1             1   \n",
       "\n",
       "   Thriller  Vampire  Yaoi  Yuri  \n",
       "0         0        0     0     0  \n",
       "1         0        0     0     0  \n",
       "2         0        0     0     0  \n",
       "3         0        0     0     0  \n",
       "4         0        0     0     0  \n",
       "\n",
       "[5 rows x 44 columns]"
      ]
     },
     "execution_count": 152,
     "metadata": {},
     "output_type": "execute_result"
    }
   ],
   "source": [
    "df1=df1.replace({True:1,False:0})\n",
    "df1.head()"
   ]
  },
  {
   "cell_type": "code",
   "execution_count": 153,
   "metadata": {},
   "outputs": [],
   "source": [
    "df1.drop('None',1,inplace=True)"
   ]
  },
  {
   "cell_type": "markdown",
   "metadata": {},
   "source": [
    "### Support for each item"
   ]
  },
  {
   "cell_type": "code",
   "execution_count": 154,
   "metadata": {},
   "outputs": [
    {
     "name": "stdout",
     "output_type": "stream",
     "text": [
      "Wall time: 5.44 s\n"
     ]
    },
    {
     "data": {
      "text/html": [
       "<div>\n",
       "<style scoped>\n",
       "    .dataframe tbody tr th:only-of-type {\n",
       "        vertical-align: middle;\n",
       "    }\n",
       "\n",
       "    .dataframe tbody tr th {\n",
       "        vertical-align: top;\n",
       "    }\n",
       "\n",
       "    .dataframe thead th {\n",
       "        text-align: right;\n",
       "    }\n",
       "</style>\n",
       "<table border=\"1\" class=\"dataframe\">\n",
       "  <thead>\n",
       "    <tr style=\"text-align: right;\">\n",
       "      <th></th>\n",
       "      <th>support</th>\n",
       "      <th>itemsets</th>\n",
       "    </tr>\n",
       "  </thead>\n",
       "  <tbody>\n",
       "    <tr>\n",
       "      <th>2</th>\n",
       "      <td>0.501252</td>\n",
       "      <td>(Comedy)</td>\n",
       "    </tr>\n",
       "    <tr>\n",
       "      <th>0</th>\n",
       "      <td>0.417622</td>\n",
       "      <td>(Action)</td>\n",
       "    </tr>\n",
       "    <tr>\n",
       "      <th>7</th>\n",
       "      <td>0.319306</td>\n",
       "      <td>(Romance)</td>\n",
       "    </tr>\n",
       "    <tr>\n",
       "      <th>3</th>\n",
       "      <td>0.268599</td>\n",
       "      <td>(Drama)</td>\n",
       "    </tr>\n",
       "    <tr>\n",
       "      <th>5</th>\n",
       "      <td>0.257954</td>\n",
       "      <td>(Fantasy)</td>\n",
       "    </tr>\n",
       "    <tr>\n",
       "      <th>12</th>\n",
       "      <td>0.251622</td>\n",
       "      <td>(Supernatural)</td>\n",
       "    </tr>\n",
       "    <tr>\n",
       "      <th>8</th>\n",
       "      <td>0.241007</td>\n",
       "      <td>(School)</td>\n",
       "    </tr>\n",
       "    <tr>\n",
       "      <th>10</th>\n",
       "      <td>0.240115</td>\n",
       "      <td>(Shounen)</td>\n",
       "    </tr>\n",
       "    <tr>\n",
       "      <th>1</th>\n",
       "      <td>0.216653</td>\n",
       "      <td>(Adventure)</td>\n",
       "    </tr>\n",
       "    <tr>\n",
       "      <th>9</th>\n",
       "      <td>0.206317</td>\n",
       "      <td>(Sci-Fi)</td>\n",
       "    </tr>\n",
       "    <tr>\n",
       "      <th>22</th>\n",
       "      <td>0.193649</td>\n",
       "      <td>(Comedy, Romance)</td>\n",
       "    </tr>\n",
       "    <tr>\n",
       "      <th>23</th>\n",
       "      <td>0.178454</td>\n",
       "      <td>(School, Comedy)</td>\n",
       "    </tr>\n",
       "    <tr>\n",
       "      <th>24</th>\n",
       "      <td>0.157826</td>\n",
       "      <td>(Shounen, Comedy)</td>\n",
       "    </tr>\n",
       "    <tr>\n",
       "      <th>14</th>\n",
       "      <td>0.149211</td>\n",
       "      <td>(Action, Comedy)</td>\n",
       "    </tr>\n",
       "    <tr>\n",
       "      <th>15</th>\n",
       "      <td>0.146296</td>\n",
       "      <td>(Action, Fantasy)</td>\n",
       "    </tr>\n",
       "    <tr>\n",
       "      <th>11</th>\n",
       "      <td>0.141050</td>\n",
       "      <td>(SliceofLife)</td>\n",
       "    </tr>\n",
       "    <tr>\n",
       "      <th>20</th>\n",
       "      <td>0.138672</td>\n",
       "      <td>(Adventure, Fantasy)</td>\n",
       "    </tr>\n",
       "    <tr>\n",
       "      <th>26</th>\n",
       "      <td>0.131065</td>\n",
       "      <td>(School, Romance)</td>\n",
       "    </tr>\n",
       "    <tr>\n",
       "      <th>17</th>\n",
       "      <td>0.130642</td>\n",
       "      <td>(Action, Shounen)</td>\n",
       "    </tr>\n",
       "    <tr>\n",
       "      <th>18</th>\n",
       "      <td>0.129140</td>\n",
       "      <td>(Action, Supernatural)</td>\n",
       "    </tr>\n",
       "    <tr>\n",
       "      <th>13</th>\n",
       "      <td>0.127612</td>\n",
       "      <td>(Action, Adventure)</td>\n",
       "    </tr>\n",
       "    <tr>\n",
       "      <th>4</th>\n",
       "      <td>0.122054</td>\n",
       "      <td>(Ecchi)</td>\n",
       "    </tr>\n",
       "    <tr>\n",
       "      <th>25</th>\n",
       "      <td>0.121131</td>\n",
       "      <td>(Romance, Drama)</td>\n",
       "    </tr>\n",
       "    <tr>\n",
       "      <th>21</th>\n",
       "      <td>0.117985</td>\n",
       "      <td>(Comedy, Fantasy)</td>\n",
       "    </tr>\n",
       "    <tr>\n",
       "      <th>16</th>\n",
       "      <td>0.117907</td>\n",
       "      <td>(Action, Sci-Fi)</td>\n",
       "    </tr>\n",
       "    <tr>\n",
       "      <th>6</th>\n",
       "      <td>0.115229</td>\n",
       "      <td>(Mystery)</td>\n",
       "    </tr>\n",
       "    <tr>\n",
       "      <th>19</th>\n",
       "      <td>0.103393</td>\n",
       "      <td>(Adventure, Comedy)</td>\n",
       "    </tr>\n",
       "  </tbody>\n",
       "</table>\n",
       "</div>"
      ],
      "text/plain": [
       "    support                itemsets\n",
       "2  0.501252                (Comedy)\n",
       "0  0.417622                (Action)\n",
       "7  0.319306               (Romance)\n",
       "3  0.268599                 (Drama)\n",
       "5  0.257954               (Fantasy)\n",
       "12 0.251622          (Supernatural)\n",
       "8  0.241007                (School)\n",
       "10 0.240115               (Shounen)\n",
       "1  0.216653             (Adventure)\n",
       "9  0.206317                (Sci-Fi)\n",
       "22 0.193649       (Comedy, Romance)\n",
       "23 0.178454        (School, Comedy)\n",
       "24 0.157826       (Shounen, Comedy)\n",
       "14 0.149211        (Action, Comedy)\n",
       "15 0.146296       (Action, Fantasy)\n",
       "11 0.141050           (SliceofLife)\n",
       "20 0.138672    (Adventure, Fantasy)\n",
       "26 0.131065       (School, Romance)\n",
       "17 0.130642       (Action, Shounen)\n",
       "18 0.129140  (Action, Supernatural)\n",
       "13 0.127612     (Action, Adventure)\n",
       "4  0.122054                 (Ecchi)\n",
       "25 0.121131        (Romance, Drama)\n",
       "21 0.117985       (Comedy, Fantasy)\n",
       "16 0.117907        (Action, Sci-Fi)\n",
       "6  0.115229               (Mystery)\n",
       "19 0.103393     (Adventure, Comedy)"
      ]
     },
     "execution_count": 154,
     "metadata": {},
     "output_type": "execute_result"
    }
   ],
   "source": [
    "%%time\n",
    "freq_items = apriori(df1,min_support = 0.1, use_colnames=True)\n",
    "freq_items=freq_items.sort_values(by='support',ascending=False)\n",
    "freq_items"
   ]
  },
  {
   "cell_type": "markdown",
   "metadata": {},
   "source": [
    "## Building Association Rules"
   ]
  },
  {
   "cell_type": "code",
   "execution_count": 155,
   "metadata": {},
   "outputs": [
    {
     "data": {
      "text/html": [
       "<div>\n",
       "<style scoped>\n",
       "    .dataframe tbody tr th:only-of-type {\n",
       "        vertical-align: middle;\n",
       "    }\n",
       "\n",
       "    .dataframe tbody tr th {\n",
       "        vertical-align: top;\n",
       "    }\n",
       "\n",
       "    .dataframe thead th {\n",
       "        text-align: right;\n",
       "    }\n",
       "</style>\n",
       "<table border=\"1\" class=\"dataframe\">\n",
       "  <thead>\n",
       "    <tr style=\"text-align: right;\">\n",
       "      <th></th>\n",
       "      <th>antecedents</th>\n",
       "      <th>consequents</th>\n",
       "      <th>antecedent support</th>\n",
       "      <th>consequent support</th>\n",
       "      <th>support</th>\n",
       "      <th>confidence</th>\n",
       "      <th>lift</th>\n",
       "      <th>leverage</th>\n",
       "      <th>conviction</th>\n",
       "    </tr>\n",
       "  </thead>\n",
       "  <tbody>\n",
       "    <tr>\n",
       "      <th>2</th>\n",
       "      <td>(School)</td>\n",
       "      <td>(Comedy)</td>\n",
       "      <td>0.241007</td>\n",
       "      <td>0.501252</td>\n",
       "      <td>0.178454</td>\n",
       "      <td>0.740453</td>\n",
       "      <td>1.477207</td>\n",
       "      <td>0.057649</td>\n",
       "      <td>1.921611</td>\n",
       "    </tr>\n",
       "    <tr>\n",
       "      <th>4</th>\n",
       "      <td>(Shounen)</td>\n",
       "      <td>(Comedy)</td>\n",
       "      <td>0.240115</td>\n",
       "      <td>0.501252</td>\n",
       "      <td>0.157826</td>\n",
       "      <td>0.657295</td>\n",
       "      <td>1.311305</td>\n",
       "      <td>0.037468</td>\n",
       "      <td>1.455325</td>\n",
       "    </tr>\n",
       "    <tr>\n",
       "      <th>10</th>\n",
       "      <td>(Adventure)</td>\n",
       "      <td>(Fantasy)</td>\n",
       "      <td>0.216653</td>\n",
       "      <td>0.257954</td>\n",
       "      <td>0.138672</td>\n",
       "      <td>0.640066</td>\n",
       "      <td>2.481316</td>\n",
       "      <td>0.082786</td>\n",
       "      <td>2.061618</td>\n",
       "    </tr>\n",
       "    <tr>\n",
       "      <th>1</th>\n",
       "      <td>(Romance)</td>\n",
       "      <td>(Comedy)</td>\n",
       "      <td>0.319306</td>\n",
       "      <td>0.501252</td>\n",
       "      <td>0.193649</td>\n",
       "      <td>0.606466</td>\n",
       "      <td>1.209901</td>\n",
       "      <td>0.033595</td>\n",
       "      <td>1.267356</td>\n",
       "    </tr>\n",
       "    <tr>\n",
       "      <th>19</th>\n",
       "      <td>(Adventure)</td>\n",
       "      <td>(Action)</td>\n",
       "      <td>0.216653</td>\n",
       "      <td>0.417622</td>\n",
       "      <td>0.127612</td>\n",
       "      <td>0.589016</td>\n",
       "      <td>1.410404</td>\n",
       "      <td>0.037133</td>\n",
       "      <td>1.417033</td>\n",
       "    </tr>\n",
       "    <tr>\n",
       "      <th>25</th>\n",
       "      <td>(Sci-Fi)</td>\n",
       "      <td>(Action)</td>\n",
       "      <td>0.206317</td>\n",
       "      <td>0.417622</td>\n",
       "      <td>0.117907</td>\n",
       "      <td>0.571485</td>\n",
       "      <td>1.368426</td>\n",
       "      <td>0.031745</td>\n",
       "      <td>1.359061</td>\n",
       "    </tr>\n",
       "    <tr>\n",
       "      <th>9</th>\n",
       "      <td>(Fantasy)</td>\n",
       "      <td>(Action)</td>\n",
       "      <td>0.257954</td>\n",
       "      <td>0.417622</td>\n",
       "      <td>0.146296</td>\n",
       "      <td>0.567140</td>\n",
       "      <td>1.358022</td>\n",
       "      <td>0.038569</td>\n",
       "      <td>1.345419</td>\n",
       "    </tr>\n",
       "    <tr>\n",
       "      <th>15</th>\n",
       "      <td>(Shounen)</td>\n",
       "      <td>(Action)</td>\n",
       "      <td>0.240115</td>\n",
       "      <td>0.417622</td>\n",
       "      <td>0.130642</td>\n",
       "      <td>0.544079</td>\n",
       "      <td>1.302802</td>\n",
       "      <td>0.030364</td>\n",
       "      <td>1.277366</td>\n",
       "    </tr>\n",
       "    <tr>\n",
       "      <th>12</th>\n",
       "      <td>(School)</td>\n",
       "      <td>(Romance)</td>\n",
       "      <td>0.241007</td>\n",
       "      <td>0.319306</td>\n",
       "      <td>0.131065</td>\n",
       "      <td>0.543823</td>\n",
       "      <td>1.703139</td>\n",
       "      <td>0.054110</td>\n",
       "      <td>1.492171</td>\n",
       "    </tr>\n",
       "    <tr>\n",
       "      <th>11</th>\n",
       "      <td>(Fantasy)</td>\n",
       "      <td>(Adventure)</td>\n",
       "      <td>0.257954</td>\n",
       "      <td>0.216653</td>\n",
       "      <td>0.138672</td>\n",
       "      <td>0.537585</td>\n",
       "      <td>2.481316</td>\n",
       "      <td>0.082786</td>\n",
       "      <td>1.694035</td>\n",
       "    </tr>\n",
       "    <tr>\n",
       "      <th>17</th>\n",
       "      <td>(Supernatural)</td>\n",
       "      <td>(Action)</td>\n",
       "      <td>0.251622</td>\n",
       "      <td>0.417622</td>\n",
       "      <td>0.129140</td>\n",
       "      <td>0.513232</td>\n",
       "      <td>1.228938</td>\n",
       "      <td>0.024057</td>\n",
       "      <td>1.196417</td>\n",
       "    </tr>\n",
       "    <tr>\n",
       "      <th>26</th>\n",
       "      <td>(Adventure)</td>\n",
       "      <td>(Comedy)</td>\n",
       "      <td>0.216653</td>\n",
       "      <td>0.501252</td>\n",
       "      <td>0.103393</td>\n",
       "      <td>0.477228</td>\n",
       "      <td>0.952071</td>\n",
       "      <td>-0.005205</td>\n",
       "      <td>0.954044</td>\n",
       "    </tr>\n",
       "    <tr>\n",
       "      <th>23</th>\n",
       "      <td>(Fantasy)</td>\n",
       "      <td>(Comedy)</td>\n",
       "      <td>0.257954</td>\n",
       "      <td>0.501252</td>\n",
       "      <td>0.117985</td>\n",
       "      <td>0.457389</td>\n",
       "      <td>0.912492</td>\n",
       "      <td>-0.011315</td>\n",
       "      <td>0.919162</td>\n",
       "    </tr>\n",
       "    <tr>\n",
       "      <th>21</th>\n",
       "      <td>(Drama)</td>\n",
       "      <td>(Romance)</td>\n",
       "      <td>0.268599</td>\n",
       "      <td>0.319306</td>\n",
       "      <td>0.121131</td>\n",
       "      <td>0.450975</td>\n",
       "      <td>1.412357</td>\n",
       "      <td>0.035366</td>\n",
       "      <td>1.239822</td>\n",
       "    </tr>\n",
       "    <tr>\n",
       "      <th>13</th>\n",
       "      <td>(Romance)</td>\n",
       "      <td>(School)</td>\n",
       "      <td>0.319306</td>\n",
       "      <td>0.241007</td>\n",
       "      <td>0.131065</td>\n",
       "      <td>0.410468</td>\n",
       "      <td>1.703139</td>\n",
       "      <td>0.054110</td>\n",
       "      <td>1.287451</td>\n",
       "    </tr>\n",
       "    <tr>\n",
       "      <th>0</th>\n",
       "      <td>(Comedy)</td>\n",
       "      <td>(Romance)</td>\n",
       "      <td>0.501252</td>\n",
       "      <td>0.319306</td>\n",
       "      <td>0.193649</td>\n",
       "      <td>0.386329</td>\n",
       "      <td>1.209901</td>\n",
       "      <td>0.033595</td>\n",
       "      <td>1.109216</td>\n",
       "    </tr>\n",
       "    <tr>\n",
       "      <th>20</th>\n",
       "      <td>(Romance)</td>\n",
       "      <td>(Drama)</td>\n",
       "      <td>0.319306</td>\n",
       "      <td>0.268599</td>\n",
       "      <td>0.121131</td>\n",
       "      <td>0.379357</td>\n",
       "      <td>1.412357</td>\n",
       "      <td>0.035366</td>\n",
       "      <td>1.178458</td>\n",
       "    </tr>\n",
       "    <tr>\n",
       "      <th>6</th>\n",
       "      <td>(Action)</td>\n",
       "      <td>(Comedy)</td>\n",
       "      <td>0.417622</td>\n",
       "      <td>0.501252</td>\n",
       "      <td>0.149211</td>\n",
       "      <td>0.357286</td>\n",
       "      <td>0.712786</td>\n",
       "      <td>-0.060124</td>\n",
       "      <td>0.776002</td>\n",
       "    </tr>\n",
       "    <tr>\n",
       "      <th>3</th>\n",
       "      <td>(Comedy)</td>\n",
       "      <td>(School)</td>\n",
       "      <td>0.501252</td>\n",
       "      <td>0.241007</td>\n",
       "      <td>0.178454</td>\n",
       "      <td>0.356017</td>\n",
       "      <td>1.477207</td>\n",
       "      <td>0.057649</td>\n",
       "      <td>1.178592</td>\n",
       "    </tr>\n",
       "    <tr>\n",
       "      <th>8</th>\n",
       "      <td>(Action)</td>\n",
       "      <td>(Fantasy)</td>\n",
       "      <td>0.417622</td>\n",
       "      <td>0.257954</td>\n",
       "      <td>0.146296</td>\n",
       "      <td>0.350308</td>\n",
       "      <td>1.358022</td>\n",
       "      <td>0.038569</td>\n",
       "      <td>1.142150</td>\n",
       "    </tr>\n",
       "    <tr>\n",
       "      <th>5</th>\n",
       "      <td>(Comedy)</td>\n",
       "      <td>(Shounen)</td>\n",
       "      <td>0.501252</td>\n",
       "      <td>0.240115</td>\n",
       "      <td>0.157826</td>\n",
       "      <td>0.314864</td>\n",
       "      <td>1.311305</td>\n",
       "      <td>0.037468</td>\n",
       "      <td>1.109101</td>\n",
       "    </tr>\n",
       "    <tr>\n",
       "      <th>14</th>\n",
       "      <td>(Action)</td>\n",
       "      <td>(Shounen)</td>\n",
       "      <td>0.417622</td>\n",
       "      <td>0.240115</td>\n",
       "      <td>0.130642</td>\n",
       "      <td>0.312822</td>\n",
       "      <td>1.302802</td>\n",
       "      <td>0.030364</td>\n",
       "      <td>1.105806</td>\n",
       "    </tr>\n",
       "    <tr>\n",
       "      <th>16</th>\n",
       "      <td>(Action)</td>\n",
       "      <td>(Supernatural)</td>\n",
       "      <td>0.417622</td>\n",
       "      <td>0.251622</td>\n",
       "      <td>0.129140</td>\n",
       "      <td>0.309228</td>\n",
       "      <td>1.228938</td>\n",
       "      <td>0.024057</td>\n",
       "      <td>1.083393</td>\n",
       "    </tr>\n",
       "    <tr>\n",
       "      <th>18</th>\n",
       "      <td>(Action)</td>\n",
       "      <td>(Adventure)</td>\n",
       "      <td>0.417622</td>\n",
       "      <td>0.216653</td>\n",
       "      <td>0.127612</td>\n",
       "      <td>0.305569</td>\n",
       "      <td>1.410404</td>\n",
       "      <td>0.037133</td>\n",
       "      <td>1.128040</td>\n",
       "    </tr>\n",
       "    <tr>\n",
       "      <th>7</th>\n",
       "      <td>(Comedy)</td>\n",
       "      <td>(Action)</td>\n",
       "      <td>0.501252</td>\n",
       "      <td>0.417622</td>\n",
       "      <td>0.149211</td>\n",
       "      <td>0.297676</td>\n",
       "      <td>0.712786</td>\n",
       "      <td>-0.060124</td>\n",
       "      <td>0.829214</td>\n",
       "    </tr>\n",
       "    <tr>\n",
       "      <th>24</th>\n",
       "      <td>(Action)</td>\n",
       "      <td>(Sci-Fi)</td>\n",
       "      <td>0.417622</td>\n",
       "      <td>0.206317</td>\n",
       "      <td>0.117907</td>\n",
       "      <td>0.282330</td>\n",
       "      <td>1.368426</td>\n",
       "      <td>0.031745</td>\n",
       "      <td>1.105916</td>\n",
       "    </tr>\n",
       "    <tr>\n",
       "      <th>22</th>\n",
       "      <td>(Comedy)</td>\n",
       "      <td>(Fantasy)</td>\n",
       "      <td>0.501252</td>\n",
       "      <td>0.257954</td>\n",
       "      <td>0.117985</td>\n",
       "      <td>0.235381</td>\n",
       "      <td>0.912492</td>\n",
       "      <td>-0.011315</td>\n",
       "      <td>0.970478</td>\n",
       "    </tr>\n",
       "    <tr>\n",
       "      <th>27</th>\n",
       "      <td>(Comedy)</td>\n",
       "      <td>(Adventure)</td>\n",
       "      <td>0.501252</td>\n",
       "      <td>0.216653</td>\n",
       "      <td>0.103393</td>\n",
       "      <td>0.206269</td>\n",
       "      <td>0.952071</td>\n",
       "      <td>-0.005205</td>\n",
       "      <td>0.986917</td>\n",
       "    </tr>\n",
       "  </tbody>\n",
       "</table>\n",
       "</div>"
      ],
      "text/plain": [
       "       antecedents     consequents  antecedent support  consequent support  \\\n",
       "2         (School)        (Comedy)            0.241007            0.501252   \n",
       "4        (Shounen)        (Comedy)            0.240115            0.501252   \n",
       "10     (Adventure)       (Fantasy)            0.216653            0.257954   \n",
       "1        (Romance)        (Comedy)            0.319306            0.501252   \n",
       "19     (Adventure)        (Action)            0.216653            0.417622   \n",
       "25        (Sci-Fi)        (Action)            0.206317            0.417622   \n",
       "9        (Fantasy)        (Action)            0.257954            0.417622   \n",
       "15       (Shounen)        (Action)            0.240115            0.417622   \n",
       "12        (School)       (Romance)            0.241007            0.319306   \n",
       "11       (Fantasy)     (Adventure)            0.257954            0.216653   \n",
       "17  (Supernatural)        (Action)            0.251622            0.417622   \n",
       "26     (Adventure)        (Comedy)            0.216653            0.501252   \n",
       "23       (Fantasy)        (Comedy)            0.257954            0.501252   \n",
       "21         (Drama)       (Romance)            0.268599            0.319306   \n",
       "13       (Romance)        (School)            0.319306            0.241007   \n",
       "0         (Comedy)       (Romance)            0.501252            0.319306   \n",
       "20       (Romance)         (Drama)            0.319306            0.268599   \n",
       "6         (Action)        (Comedy)            0.417622            0.501252   \n",
       "3         (Comedy)        (School)            0.501252            0.241007   \n",
       "8         (Action)       (Fantasy)            0.417622            0.257954   \n",
       "5         (Comedy)       (Shounen)            0.501252            0.240115   \n",
       "14        (Action)       (Shounen)            0.417622            0.240115   \n",
       "16        (Action)  (Supernatural)            0.417622            0.251622   \n",
       "18        (Action)     (Adventure)            0.417622            0.216653   \n",
       "7         (Comedy)        (Action)            0.501252            0.417622   \n",
       "24        (Action)        (Sci-Fi)            0.417622            0.206317   \n",
       "22        (Comedy)       (Fantasy)            0.501252            0.257954   \n",
       "27        (Comedy)     (Adventure)            0.501252            0.216653   \n",
       "\n",
       "    support  confidence     lift  leverage  conviction  \n",
       "2  0.178454    0.740453 1.477207  0.057649    1.921611  \n",
       "4  0.157826    0.657295 1.311305  0.037468    1.455325  \n",
       "10 0.138672    0.640066 2.481316  0.082786    2.061618  \n",
       "1  0.193649    0.606466 1.209901  0.033595    1.267356  \n",
       "19 0.127612    0.589016 1.410404  0.037133    1.417033  \n",
       "25 0.117907    0.571485 1.368426  0.031745    1.359061  \n",
       "9  0.146296    0.567140 1.358022  0.038569    1.345419  \n",
       "15 0.130642    0.544079 1.302802  0.030364    1.277366  \n",
       "12 0.131065    0.543823 1.703139  0.054110    1.492171  \n",
       "11 0.138672    0.537585 2.481316  0.082786    1.694035  \n",
       "17 0.129140    0.513232 1.228938  0.024057    1.196417  \n",
       "26 0.103393    0.477228 0.952071 -0.005205    0.954044  \n",
       "23 0.117985    0.457389 0.912492 -0.011315    0.919162  \n",
       "21 0.121131    0.450975 1.412357  0.035366    1.239822  \n",
       "13 0.131065    0.410468 1.703139  0.054110    1.287451  \n",
       "0  0.193649    0.386329 1.209901  0.033595    1.109216  \n",
       "20 0.121131    0.379357 1.412357  0.035366    1.178458  \n",
       "6  0.149211    0.357286 0.712786 -0.060124    0.776002  \n",
       "3  0.178454    0.356017 1.477207  0.057649    1.178592  \n",
       "8  0.146296    0.350308 1.358022  0.038569    1.142150  \n",
       "5  0.157826    0.314864 1.311305  0.037468    1.109101  \n",
       "14 0.130642    0.312822 1.302802  0.030364    1.105806  \n",
       "16 0.129140    0.309228 1.228938  0.024057    1.083393  \n",
       "18 0.127612    0.305569 1.410404  0.037133    1.128040  \n",
       "7  0.149211    0.297676 0.712786 -0.060124    0.829214  \n",
       "24 0.117907    0.282330 1.368426  0.031745    1.105916  \n",
       "22 0.117985    0.235381 0.912492 -0.011315    0.970478  \n",
       "27 0.103393    0.206269 0.952071 -0.005205    0.986917  "
      ]
     },
     "execution_count": 155,
     "metadata": {},
     "output_type": "execute_result"
    }
   ],
   "source": [
    "rules = association_rules(freq_items, metric='confidence',min_threshold=0.2)\n",
    "rules.sort_values(by='confidence',ascending=False)"
   ]
  },
  {
   "cell_type": "markdown",
   "metadata": {},
   "source": [
    "Genre School is having highest confidence with  genre comedy"
   ]
  },
  {
   "cell_type": "markdown",
   "metadata": {},
   "source": [
    "## Conclusion"
   ]
  },
  {
   "cell_type": "markdown",
   "metadata": {},
   "source": [
    "1. We performed clustering analysis using KMeans, DBSCAN and saw various segments on which we can divide the dataset and detected the outliers\n",
    "2. Applied dimensionality reductions such as PCA and visualized the clusters in 3D as well as 2D planes\n",
    "3. Built different types of recommendation systems and verified the quality of recommendation\n",
    "4. Performed market basket analysis on the genres and found out associations among the genres"
   ]
  },
  {
   "cell_type": "code",
   "execution_count": null,
   "metadata": {},
   "outputs": [],
   "source": []
  }
 ],
 "metadata": {
  "kernelspec": {
   "display_name": "Python 3",
   "language": "python",
   "name": "python3"
  },
  "language_info": {
   "codemirror_mode": {
    "name": "ipython",
    "version": 3
   },
   "file_extension": ".py",
   "mimetype": "text/x-python",
   "name": "python",
   "nbconvert_exporter": "python",
   "pygments_lexer": "ipython3",
   "version": "3.8.5"
  }
 },
 "nbformat": 4,
 "nbformat_minor": 4
}
